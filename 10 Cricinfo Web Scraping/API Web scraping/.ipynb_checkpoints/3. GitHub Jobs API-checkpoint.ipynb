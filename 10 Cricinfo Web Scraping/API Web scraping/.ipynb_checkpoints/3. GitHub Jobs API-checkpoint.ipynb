{
 "cells": [
  {
   "cell_type": "code",
   "execution_count": 1,
   "metadata": {},
   "outputs": [],
   "source": [
    "# https://jobs.github.com/api\n",
    "\n",
    "\n",
    "import requests\n",
    "import json"
   ]
  },
  {
   "cell_type": "code",
   "execution_count": 2,
   "metadata": {},
   "outputs": [],
   "source": [
    "base_site = \"https://jobs.github.com/positions.json\""
   ]
  },
  {
   "cell_type": "code",
   "execution_count": 3,
   "metadata": {},
   "outputs": [
    {
     "data": {
      "text/plain": [
       "True"
      ]
     },
     "execution_count": 3,
     "metadata": {},
     "output_type": "execute_result"
    }
   ],
   "source": [
    "r  = requests.get(base_site, params = {\"description\":\"data science\",\"location\":\"new york\"})\n",
    "r.ok"
   ]
  },
  {
   "cell_type": "code",
   "execution_count": 4,
   "metadata": {},
   "outputs": [
    {
     "data": {
      "text/plain": [
       "[{'id': 'b282ac45-f810-41c1-8180-8ea2881f0bc2',\n",
       "  'type': 'Full Time',\n",
       "  'url': 'https://jobs.github.com/positions/b282ac45-f810-41c1-8180-8ea2881f0bc2',\n",
       "  'created_at': 'Mon Mar 01 18:21:27 UTC 2021',\n",
       "  'company': 'Thorlabs',\n",
       "  'company_url': 'http://Thorlabs.com',\n",
       "  'location': '56 Sparta Ave, Newton, NJ 07860',\n",
       "  'title': 'Enterprise Data Architect',\n",
       "  'description': '<p>The Enterprise Data Architect (EDA) primary goal is to keep data easily accessible and accurate. To meet that goal, the EDA reviews, refines and implements data standards. Examples of data standards include those that define how data is categorized or how codes are assigned to represent specific products, customers and other data types. Gathering information about data use in the workplace, the architect creates a blueprint or road map, showing processes and services that affect data use and data standards. The architect works with project managers and business stakeholders to implement that design.</p>\\n<p>The EDA is further expected to act as the team leader for the global DBA resources and provide them daily technical guidance and management. The role as EDA is hands on, relishing learning, provide guidance and create value added services for a data hungry organization\\nAlthough the location of the position is in Newton, NJ, from time to time it may be required to undertake duties at other ThorLabs locations.</p>\\n<p>Essential Job Functions include the following, but are not limited to:</p>\\n<ul>\\n<li>The EDA works with teams to solve business data problems.</li>\\n<li>The EDA develops data modeling methods, databases, data warehouses, data lakes, master data and metadata.</li>\\n<li>The EDA acts as a data evangelist to address business process improvement with users in finance, purchasing, quality, human resources and other departments.\\nIn addition to the essential functions and duties listed above, all positions are also responsible for:</li>\\n<li>Meeting company standards pertaining to quantity and quality of work performed on an ongoing basis, performing all work related tasks in a manner that is in compliance with all Company policies and procedures.</li>\\n<li>Adhering to Company policies, procedures, and directives regarding standards of workplace behavior in completing job duties and assignments.\\nThe Company retains the right to change or assign other duties to this position.\\nPhysical Activities:\\nThis is largely a sedentary role; however, some filing is required. This would require the ability to lift files, open filing cabinets and bend or stand as necessary.</li>\\n</ul>\\n<p>Qualifications</p>\\n<p>Experience:</p>\\n<ul>\\n<li>10+ years of experience in database design, data warehousing and data modeling</li>\\n</ul>\\n<p>Education:</p>\\n<ul>\\n<li>Bachelor’s degree in Engineering/Science, or equivalent work experience.</li>\\n</ul>\\n<p>Specialized Knowledge and Skills:</p>\\n<ul>\\n<li>Prior experience as DBA architect</li>\\n<li>Experience with the MS SQL stack - SSIS, SSAS, SSRS, Azure Synapse, Azure Analysis Services etc.</li>\\n<li>Knowledge of ERP system databases, preferable MS Dynamics/Axapta.</li>\\n<li>Comes from a mixed heterogeneous SQL environment</li>\\n<li>Knowledge of project management</li>\\n<li>Experience with data modeling software</li>\\n<li>Experience with migrating to cloud, preferably Azure</li>\\n<li>Communicate directly with users, speaking in terms they understand</li>\\n<li>Should have good business knowledge and be able to explain technical concepts without using complex, technical terms.</li>\\n</ul>\\n<p><em><strong>Please be sure to complete an application on the Company’s career site for consideration. Direct link provided below:</strong></em></p>\\n<p><a href=\"https://recruiting.myapps.paychex.com/appone/MainInfoReq.asp?R_ID=3429023\">https://recruiting.myapps.paychex.com/appone/MainInfoReq.asp?R_ID=3429023</a></p>\\n<p>Thorlabs values its diverse environment and is proud to be an Equal Employment Opportunity/Affirmative Action employer. All qualified individuals will receive consideration for employment without regard to race, color, religion, gender, gender identify or expression, sexual orientation, national origin, genetics, disability, age or veteran status. Job descriptions are not intended as and do not create employment contracts. The organization maintains its status as an at-will employer. Employees can be terminated for any reason not prohibited by law.</p>\\n',\n",
       "  'how_to_apply': '<p><em><strong>Please be sure to complete an application on the Company’s career site for consideration. Direct link provided below:</strong></em></p>\\n<p><a href=\"https://recruiting.myapps.paychex.com/appone/MainInfoReq.asp?R_ID=3429023\">https://recruiting.myapps.paychex.com/appone/MainInfoReq.asp?R_ID=3429023</a></p>\\n',\n",
       "  'company_logo': 'https://jobs.github.com/rails/active_storage/blobs/eyJfcmFpbHMiOnsibWVzc2FnZSI6IkJBaHBBckthIiwiZXhwIjpudWxsLCJwdXIiOiJibG9iX2lkIn19--3017b12aae9aaaefaf1bf3f115cac30519b9fe09/Company%20Logo%20Small.jpg'}]"
      ]
     },
     "execution_count": 4,
     "metadata": {},
     "output_type": "execute_result"
    }
   ],
   "source": [
    "r.json()"
   ]
  },
  {
   "cell_type": "code",
   "execution_count": 6,
   "metadata": {},
   "outputs": [
    {
     "data": {
      "text/plain": [
       "True"
      ]
     },
     "execution_count": 6,
     "metadata": {},
     "output_type": "execute_result"
    }
   ],
   "source": [
    "r  = requests.get(base_site, params = {\"page\":1})\n",
    "r.ok"
   ]
  },
  {
   "cell_type": "code",
   "execution_count": 7,
   "metadata": {},
   "outputs": [
    {
     "data": {
      "text/plain": [
       "50"
      ]
     },
     "execution_count": 7,
     "metadata": {},
     "output_type": "execute_result"
    }
   ],
   "source": [
    "len(r.json())"
   ]
  },
  {
   "cell_type": "code",
   "execution_count": 8,
   "metadata": {},
   "outputs": [
    {
     "data": {
      "text/plain": [
       "50"
      ]
     },
     "execution_count": 8,
     "metadata": {},
     "output_type": "execute_result"
    }
   ],
   "source": [
    "r  = requests.get(base_site, params = {\"page\":2})\n",
    "r.ok\n",
    "len(r.json())"
   ]
  },
  {
   "cell_type": "code",
   "execution_count": 11,
   "metadata": {},
   "outputs": [
    {
     "data": {
      "text/plain": [
       "47"
      ]
     },
     "execution_count": 11,
     "metadata": {},
     "output_type": "execute_result"
    }
   ],
   "source": [
    "r  = requests.get(base_site, params = {\"page\":6})\n",
    "r.ok\n",
    "len(r.json())"
   ]
  },
  {
   "cell_type": "code",
   "execution_count": 12,
   "metadata": {},
   "outputs": [],
   "source": [
    "# Extracting result from multiple Pages"
   ]
  },
  {
   "cell_type": "code",
   "execution_count": 13,
   "metadata": {},
   "outputs": [],
   "source": [
    "result = []"
   ]
  },
  {
   "cell_type": "code",
   "execution_count": 17,
   "metadata": {},
   "outputs": [],
   "source": [
    "for i in range(10):\n",
    "    r = requests.get(base_site, params = {\"page\":i+1})\n",
    "    if len(r.json()) == 0:\n",
    "        break\n",
    "    else:\n",
    "        result.extend(r.json())"
   ]
  },
  {
   "cell_type": "raw",
   "metadata": {},
   "source": [
    "lst = []\n",
    "lst.append(\"data sci\")\n",
    "lst"
   ]
  },
  {
   "cell_type": "code",
   "execution_count": 15,
   "metadata": {},
   "outputs": [
    {
     "data": {
      "text/plain": [
       "['data sci', 'python', 'java']"
      ]
     },
     "execution_count": 15,
     "metadata": {},
     "output_type": "execute_result"
    }
   ],
   "source": [
    "lst.extend([\"python\",\"java\"])\n",
    "lst"
   ]
  },
  {
   "cell_type": "code",
   "execution_count": 19,
   "metadata": {},
   "outputs": [
    {
     "data": {
      "text/plain": [
       "297"
      ]
     },
     "execution_count": 19,
     "metadata": {},
     "output_type": "execute_result"
    }
   ],
   "source": [
    "len(result)"
   ]
  },
  {
   "cell_type": "code",
   "execution_count": 20,
   "metadata": {},
   "outputs": [],
   "source": [
    "import pandas as pd"
   ]
  },
  {
   "cell_type": "code",
   "execution_count": 21,
   "metadata": {},
   "outputs": [
    {
     "data": {
      "text/html": [
       "<div>\n",
       "<style scoped>\n",
       "    .dataframe tbody tr th:only-of-type {\n",
       "        vertical-align: middle;\n",
       "    }\n",
       "\n",
       "    .dataframe tbody tr th {\n",
       "        vertical-align: top;\n",
       "    }\n",
       "\n",
       "    .dataframe thead th {\n",
       "        text-align: right;\n",
       "    }\n",
       "</style>\n",
       "<table border=\"1\" class=\"dataframe\">\n",
       "  <thead>\n",
       "    <tr style=\"text-align: right;\">\n",
       "      <th></th>\n",
       "      <th>id</th>\n",
       "      <th>type</th>\n",
       "      <th>url</th>\n",
       "      <th>created_at</th>\n",
       "      <th>company</th>\n",
       "      <th>company_url</th>\n",
       "      <th>location</th>\n",
       "      <th>title</th>\n",
       "      <th>description</th>\n",
       "      <th>how_to_apply</th>\n",
       "      <th>company_logo</th>\n",
       "    </tr>\n",
       "  </thead>\n",
       "  <tbody>\n",
       "    <tr>\n",
       "      <th>0</th>\n",
       "      <td>57d5ee30-b11e-4f06-9576-acef0621cc43</td>\n",
       "      <td>Full Time</td>\n",
       "      <td>https://jobs.github.com/positions/57d5ee30-b11...</td>\n",
       "      <td>Fri Mar 26 21:12:20 UTC 2021</td>\n",
       "      <td>Engrain</td>\n",
       "      <td>http:</td>\n",
       "      <td>Denver</td>\n",
       "      <td>Senior JavaScript Engineer</td>\n",
       "      <td>&lt;p&gt;We are looking for a motivated Senior JavaS...</td>\n",
       "      <td>&lt;p&gt;Apply here &lt;a href=\"https://bit.ly/34n4IiD\"...</td>\n",
       "      <td>https://jobs.github.com/rails/active_storage/b...</td>\n",
       "    </tr>\n",
       "    <tr>\n",
       "      <th>1</th>\n",
       "      <td>11e89d7d-fc8d-42c8-87e0-79161c9bfd1c</td>\n",
       "      <td>Full Time</td>\n",
       "      <td>https://jobs.github.com/positions/11e89d7d-fc8...</td>\n",
       "      <td>Fri Mar 26 21:07:45 UTC 2021</td>\n",
       "      <td>TELUS</td>\n",
       "      <td>http://TELUS</td>\n",
       "      <td>Vancouver/Toronto/Montreal/Remote</td>\n",
       "      <td>Senior Ruby on Rails Developer - Collaborative...</td>\n",
       "      <td>&lt;p&gt;&lt;strong&gt;Who we are&lt;/strong&gt;&lt;/p&gt;\\n&lt;p&gt;&lt;strong...</td>\n",
       "      <td>&lt;p&gt;&lt;a href=\"https://telus.taleo.net/careersect...</td>\n",
       "      <td>https://jobs.github.com/rails/active_storage/b...</td>\n",
       "    </tr>\n",
       "    <tr>\n",
       "      <th>2</th>\n",
       "      <td>038172d4-0215-479b-a1f2-305405834b1c</td>\n",
       "      <td>Full Time</td>\n",
       "      <td>https://jobs.github.com/positions/038172d4-021...</td>\n",
       "      <td>Fri Mar 26 18:42:21 UTC 2021</td>\n",
       "      <td>AXOVISION GmbH</td>\n",
       "      <td>http://www.axovision.com</td>\n",
       "      <td>Germany</td>\n",
       "      <td>Senior Software Engineer (m/f/x)  - 100% Remote</td>\n",
       "      <td>&lt;p&gt;&lt;em&gt;We are a growing financial technology s...</td>\n",
       "      <td>&lt;p&gt;Email your CV at &lt;a href=\"mailto:info@axovi...</td>\n",
       "      <td>https://jobs.github.com/rails/active_storage/b...</td>\n",
       "    </tr>\n",
       "    <tr>\n",
       "      <th>3</th>\n",
       "      <td>15587775-41da-409d-8b96-5a52b1d6aa8d</td>\n",
       "      <td>Full Time</td>\n",
       "      <td>https://jobs.github.com/positions/15587775-41d...</td>\n",
       "      <td>Fri Mar 26 12:40:38 UTC 2021</td>\n",
       "      <td>Parts Town</td>\n",
       "      <td>None</td>\n",
       "      <td>Chicago, IL</td>\n",
       "      <td>iOS Mobile Developer</td>\n",
       "      <td>&lt;p&gt;See What We’re All About\\nAs the fastest gr...</td>\n",
       "      <td>&lt;p&gt;&lt;a href=\"https://jobs.jobvite.com/careers/p...</td>\n",
       "      <td>https://jobs.github.com/rails/active_storage/b...</td>\n",
       "    </tr>\n",
       "    <tr>\n",
       "      <th>4</th>\n",
       "      <td>26a6c46d-492e-4625-8fc8-b8cc91e24149</td>\n",
       "      <td>Full Time</td>\n",
       "      <td>https://jobs.github.com/positions/26a6c46d-492...</td>\n",
       "      <td>Fri Mar 26 16:11:39 UTC 2021</td>\n",
       "      <td>Klaviyo</td>\n",
       "      <td>http:</td>\n",
       "      <td>Boston, MA</td>\n",
       "      <td>SENIOR Data Engineer</td>\n",
       "      <td>&lt;p&gt;As an engineer on the Events Team, that foc...</td>\n",
       "      <td>&lt;p&gt;Please apply directly here:\\n&lt;a href=\"https...</td>\n",
       "      <td>https://jobs.github.com/rails/active_storage/b...</td>\n",
       "    </tr>\n",
       "  </tbody>\n",
       "</table>\n",
       "</div>"
      ],
      "text/plain": [
       "                                     id       type  \\\n",
       "0  57d5ee30-b11e-4f06-9576-acef0621cc43  Full Time   \n",
       "1  11e89d7d-fc8d-42c8-87e0-79161c9bfd1c  Full Time   \n",
       "2  038172d4-0215-479b-a1f2-305405834b1c  Full Time   \n",
       "3  15587775-41da-409d-8b96-5a52b1d6aa8d  Full Time   \n",
       "4  26a6c46d-492e-4625-8fc8-b8cc91e24149  Full Time   \n",
       "\n",
       "                                                 url  \\\n",
       "0  https://jobs.github.com/positions/57d5ee30-b11...   \n",
       "1  https://jobs.github.com/positions/11e89d7d-fc8...   \n",
       "2  https://jobs.github.com/positions/038172d4-021...   \n",
       "3  https://jobs.github.com/positions/15587775-41d...   \n",
       "4  https://jobs.github.com/positions/26a6c46d-492...   \n",
       "\n",
       "                     created_at         company               company_url  \\\n",
       "0  Fri Mar 26 21:12:20 UTC 2021         Engrain                     http:   \n",
       "1  Fri Mar 26 21:07:45 UTC 2021           TELUS              http://TELUS   \n",
       "2  Fri Mar 26 18:42:21 UTC 2021  AXOVISION GmbH  http://www.axovision.com   \n",
       "3  Fri Mar 26 12:40:38 UTC 2021      Parts Town                      None   \n",
       "4  Fri Mar 26 16:11:39 UTC 2021         Klaviyo                     http:   \n",
       "\n",
       "                            location  \\\n",
       "0                            Denver    \n",
       "1  Vancouver/Toronto/Montreal/Remote   \n",
       "2                            Germany   \n",
       "3                        Chicago, IL   \n",
       "4                         Boston, MA   \n",
       "\n",
       "                                               title  \\\n",
       "0                        Senior JavaScript Engineer    \n",
       "1  Senior Ruby on Rails Developer - Collaborative...   \n",
       "2    Senior Software Engineer (m/f/x)  - 100% Remote   \n",
       "3                              iOS Mobile Developer    \n",
       "4                               SENIOR Data Engineer   \n",
       "\n",
       "                                         description  \\\n",
       "0  <p>We are looking for a motivated Senior JavaS...   \n",
       "1  <p><strong>Who we are</strong></p>\\n<p><strong...   \n",
       "2  <p><em>We are a growing financial technology s...   \n",
       "3  <p>See What We’re All About\\nAs the fastest gr...   \n",
       "4  <p>As an engineer on the Events Team, that foc...   \n",
       "\n",
       "                                        how_to_apply  \\\n",
       "0  <p>Apply here <a href=\"https://bit.ly/34n4IiD\"...   \n",
       "1  <p><a href=\"https://telus.taleo.net/careersect...   \n",
       "2  <p>Email your CV at <a href=\"mailto:info@axovi...   \n",
       "3  <p><a href=\"https://jobs.jobvite.com/careers/p...   \n",
       "4  <p>Please apply directly here:\\n<a href=\"https...   \n",
       "\n",
       "                                        company_logo  \n",
       "0  https://jobs.github.com/rails/active_storage/b...  \n",
       "1  https://jobs.github.com/rails/active_storage/b...  \n",
       "2  https://jobs.github.com/rails/active_storage/b...  \n",
       "3  https://jobs.github.com/rails/active_storage/b...  \n",
       "4  https://jobs.github.com/rails/active_storage/b...  "
      ]
     },
     "execution_count": 21,
     "metadata": {},
     "output_type": "execute_result"
    }
   ],
   "source": [
    "result = pd.DataFrame(result)\n",
    "result.head()"
   ]
  },
  {
   "cell_type": "code",
   "execution_count": 22,
   "metadata": {},
   "outputs": [],
   "source": [
    "result.to_csv(\"github_jobs.csv\")"
   ]
  },
  {
   "cell_type": "code",
   "execution_count": null,
   "metadata": {},
   "outputs": [],
   "source": []
  }
 ],
 "metadata": {
  "kernelspec": {
   "display_name": "Python 3",
   "language": "python",
   "name": "python3"
  },
  "language_info": {
   "codemirror_mode": {
    "name": "ipython",
    "version": 3
   },
   "file_extension": ".py",
   "mimetype": "text/x-python",
   "name": "python",
   "nbconvert_exporter": "python",
   "pygments_lexer": "ipython3",
   "version": "3.8.5"
  }
 },
 "nbformat": 4,
 "nbformat_minor": 4
}
