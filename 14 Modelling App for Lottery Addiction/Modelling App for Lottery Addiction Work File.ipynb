{
 "cells": [
  {
   "cell_type": "code",
   "execution_count": 1,
   "metadata": {},
   "outputs": [],
   "source": [
    "import numpy as np\n",
    "import pandas as pd\n",
    "import matplotlib.pyplot as plt"
   ]
  },
  {
   "cell_type": "markdown",
   "metadata": {},
   "source": [
    "# Basic of probability"
   ]
  },
  {
   "cell_type": "markdown",
   "metadata": {},
   "source": [
    "* change of occuring somthing is known as probability\n",
    "* Posibilities is also known as probability\n",
    "* a condition we can not know the output with certainity then probability is powerfull technique\n",
    "* for this we do experiment that is call rondom experiment\n",
    "* if we towice the coin then it has 2 possibile out come known as head and tail\n",
    "* if we do not know the output then it it call rondom  experiment\n",
    "* throw dice, coin and select card from play cards is call rondom experiment \n",
    "* chance of occure the event is called probability and probability is calculated on the occuring the event\n",
    "* probability is how many chances of head in a coin\n",
    "* air freiction and coin weight also affect the rondom experiment\n"
   ]
  },
  {
   "cell_type": "markdown",
   "metadata": {},
   "source": [
    "# there are 2 types to calculate probability"
   ]
  },
  {
   "cell_type": "markdown",
   "metadata": {},
   "source": [
    "* experimantal or imperical\n",
    "* theroatical probability"
   ]
  },
  {
   "cell_type": "markdown",
   "metadata": {},
   "source": [
    "# experimantal or imperical"
   ]
  },
  {
   "cell_type": "markdown",
   "metadata": {},
   "source": [
    "* i did 100 experiment of coin. and 56 time head comes\n",
    "* event means successfull event .\n",
    "* outcomes mean possible outcome. head and tail is 2 possible outcomes\n",
    "* if i divide 56/100 then this is # experimantal or imperical called\n",
    "* basically imperical is just reletive frequency, basically relative frequency is the proportion or percentage or normalized value"
   ]
  },
  {
   "cell_type": "markdown",
   "metadata": {},
   "source": [
    "# P(Event)=number of time event occure/number of experiment performe\n",
    "* formula"
   ]
  },
  {
   "cell_type": "markdown",
   "metadata": {},
   "source": [
    "P(H)=56/100"
   ]
  },
  {
   "cell_type": "code",
   "execution_count": null,
   "metadata": {},
   "outputs": [],
   "source": [
    "56/100"
   ]
  },
  {
   "cell_type": "code",
   "execution_count": null,
   "metadata": {},
   "outputs": [],
   "source": [
    "#now head comes 46 time with 100 time experiment p(H)\n",
    "46/100"
   ]
  },
  {
   "cell_type": "markdown",
   "metadata": {},
   "source": [
    "so someone toss and his head come .46 and someone .56 , to make it true probabality  we need to increase experiment"
   ]
  },
  {
   "cell_type": "markdown",
   "metadata": {},
   "source": [
    "# to find the true probabality we should increse our experiment"
   ]
  },
  {
   "cell_type": "code",
   "execution_count": null,
   "metadata": {},
   "outputs": [],
   "source": [
    "np.random.randint(0,4)\n",
    "#for random number"
   ]
  },
  {
   "cell_type": "code",
   "execution_count": null,
   "metadata": {},
   "outputs": [],
   "source": [
    "def toss():\n",
    "    n=np.random.randint(0,2)\n",
    "    if n==1:\n",
    "        return \"Head\"\n",
    "    else:\n",
    "        return \"Tail\"\n",
    "        \n",
    "    "
   ]
  },
  {
   "cell_type": "code",
   "execution_count": null,
   "metadata": {},
   "outputs": [],
   "source": [
    "toss()"
   ]
  },
  {
   "cell_type": "code",
   "execution_count": null,
   "metadata": {},
   "outputs": [],
   "source": [
    "count=0\n",
    "head=0\n",
    "ph=[]\n",
    "for i in range(500000):\n",
    "    count +=1\n",
    "    result=toss()\n",
    "    if result==\"Head\":\n",
    "        head  +=1\n",
    "        p=head/count\n",
    "        ph.append(p)\n",
    "    "
   ]
  },
  {
   "cell_type": "code",
   "execution_count": null,
   "metadata": {},
   "outputs": [],
   "source": [
    "len(ph)"
   ]
  },
  {
   "cell_type": "code",
   "execution_count": null,
   "metadata": {},
   "outputs": [],
   "source": [
    "ph"
   ]
  },
  {
   "cell_type": "markdown",
   "metadata": {},
   "source": [
    "head/count means 1/3,2/10,3/82"
   ]
  },
  {
   "cell_type": "code",
   "execution_count": null,
   "metadata": {},
   "outputs": [],
   "source": [
    "s=pd.Series(ph)"
   ]
  },
  {
   "cell_type": "code",
   "execution_count": null,
   "metadata": {},
   "outputs": [],
   "source": [
    "s"
   ]
  },
  {
   "cell_type": "code",
   "execution_count": null,
   "metadata": {},
   "outputs": [],
   "source": [
    "s.shape"
   ]
  },
  {
   "cell_type": "code",
   "execution_count": null,
   "metadata": {},
   "outputs": [],
   "source": [
    "s.plot()\n",
    "plt.show()"
   ]
  },
  {
   "cell_type": "code",
   "execution_count": null,
   "metadata": {},
   "outputs": [],
   "source": [
    "s.plot()\n",
    "plt.axhline(0.5,color=\"r\")\n",
    "plt.show()"
   ]
  },
  {
   "cell_type": "markdown",
   "metadata": {},
   "source": [
    "**as we increse the experiment we will find the true probabality, but this is not easy task to do manual \n",
    "for this we use theroatical probability, we can also find true probability**\n",
    "* so we move theroatical probability in that case"
   ]
  },
  {
   "cell_type": "markdown",
   "metadata": {},
   "source": [
    "# theroatical probability\n",
    "in which no practical invole, base on idea, \n",
    "* in theroatical probability we have an assumption that equally like, chance of any thing is equally likely\n",
    "* theroatical probability is not apply on each case, in tht case we use imperical probability\n",
    "* jaha per experiment na ho raha ho waha theroatical probability use hoti hy"
   ]
  },
  {
   "cell_type": "markdown",
   "metadata": {},
   "source": [
    "# p(tp)=number of successful event/number of total possible outcomes\n",
    "* formula"
   ]
  },
  {
   "cell_type": "code",
   "execution_count": null,
   "metadata": {},
   "outputs": [],
   "source": [
    "1/2\n",
    "#probaboility of head in single coin toss"
   ]
  },
  {
   "cell_type": "code",
   "execution_count": null,
   "metadata": {},
   "outputs": [],
   "source": [
    "3/6\n",
    "# probalilty of even number"
   ]
  },
  {
   "cell_type": "code",
   "execution_count": null,
   "metadata": {},
   "outputs": [],
   "source": [
    "1/6\n",
    "# probalilty of six number"
   ]
  },
  {
   "cell_type": "code",
   "execution_count": null,
   "metadata": {},
   "outputs": [],
   "source": [
    "2/6\n",
    "# probability of 5 or 6"
   ]
  },
  {
   "cell_type": "markdown",
   "metadata": {},
   "source": [
    "# tamper example"
   ]
  },
  {
   "cell_type": "markdown",
   "metadata": {},
   "source": [
    "* Eqully likely\n",
    "* die={1,2,3,6,6,6}\n",
    "* chance of 1 is 1/6\n",
    "* chance of 6 is 3/6\n",
    "\n",
    "\n",
    "* not eqully likely, this is wrong asumption\n",
    "* die={1,2,3,6}\n",
    "* chance of 1 is 1/4\n",
    "* chance of 6 is 1/4\n"
   ]
  },
  {
   "cell_type": "markdown",
   "metadata": {},
   "source": [
    "# Example"
   ]
  },
  {
   "cell_type": "markdown",
   "metadata": {},
   "source": [
    "#atlest 1 head\n",
    "toss={HH,HT,TH,TT}"
   ]
  },
  {
   "cell_type": "code",
   "execution_count": null,
   "metadata": {},
   "outputs": [],
   "source": [
    "3/4"
   ]
  },
  {
   "cell_type": "markdown",
   "metadata": {},
   "source": [
    "**event is also out come and total possible outcome is also outcome, \n",
    "but event is the subpart of total outcome then what is total outcome,\n",
    "total outcomes is call sample space**"
   ]
  },
  {
   "cell_type": "markdown",
   "metadata": {},
   "source": [
    "# example"
   ]
  },
  {
   "cell_type": "code",
   "execution_count": null,
   "metadata": {},
   "outputs": [],
   "source": [
    "sample space of coin is 2 {H,T}\n",
    "die is 6 {1,2,3,4,5,6} \n",
    "We use set in probabality, having unique values\n"
   ]
  },
  {
   "cell_type": "code",
   "execution_count": null,
   "metadata": {},
   "outputs": [],
   "source": [
    "{1,2,2,3,4,5,6}\n",
    "#no repetition, same in probabality where sample sample is unique"
   ]
  },
  {
   "cell_type": "markdown",
   "metadata": {},
   "source": [
    "# example"
   ]
  },
  {
   "cell_type": "code",
   "execution_count": null,
   "metadata": {},
   "outputs": [],
   "source": [
    "event_even={2,4,6}\n",
    "sample_space={1,2,3,4,5,6,6}\n",
    "sample_space"
   ]
  },
  {
   "cell_type": "markdown",
   "metadata": {},
   "source": [
    "# sample_space is also konown as omaga/total outcome"
   ]
  },
  {
   "cell_type": "markdown",
   "metadata": {},
   "source": [
    "# three different concept in probability"
   ]
  },
  {
   "cell_type": "markdown",
   "metadata": {},
   "source": [
    "* imposible\n",
    "* probable\n",
    "* certain"
   ]
  },
  {
   "cell_type": "code",
   "execution_count": null,
   "metadata": {},
   "outputs": [],
   "source": [
    "* imposible, i toss a coin and there is a 3rd type outcomes otherthen h,t, same as i throw a 2 die sum is 15,this means event is 0 \n",
    "{(h,1),(h,2),(h,3),(h,4),(h,5),(h,6),(t,1),(t,2),(t,3),(t,4),(t,5),(t,6)}\n",
    "find the pobablity of h,7\n",
    "0/12 this is impossible\n",
    "\n",
    "* probable, i throw coin , there is head or may be tail,\n",
    "\n",
    "\n",
    "\n",
    "* certain  , i throw coin , there must be head or head,and it probality is 100 percent"
   ]
  },
  {
   "cell_type": "markdown",
   "metadata": {},
   "source": [
    "# example"
   ]
  },
  {
   "cell_type": "code",
   "execution_count": null,
   "metadata": {},
   "outputs": [],
   "source": [
    "e1={2,4}\n",
    "e2={6}\n",
    "\n",
    "p(e1 or e2)={2,4,6}/{1,2,3,4,5,6}"
   ]
  },
  {
   "cell_type": "code",
   "execution_count": null,
   "metadata": {},
   "outputs": [],
   "source": [
    "p_e1_or_e2=3/6 # theroatical probability\n",
    "p_e1_or_e2\n",
    "#this is basically union where we combine two dif probablity and chance of probablity also increase"
   ]
  },
  {
   "cell_type": "markdown",
   "metadata": {},
   "source": [
    "* e1_U_e2={2,4}U{6}\n",
    "* e1_U_e2={2,4,6}\n",
    "* or means union "
   ]
  },
  {
   "cell_type": "code",
   "execution_count": null,
   "metadata": {},
   "outputs": [],
   "source": [
    "p(e1 or e2)=p(e1)+p(e2)\n",
    "#this is addtion rule"
   ]
  },
  {
   "cell_type": "code",
   "execution_count": null,
   "metadata": {},
   "outputs": [],
   "source": [
    "#with addition rule\n",
    "e1={2,4}\n",
    "e2={6}\n",
    "p_e1_or_e2=(1/6+1/6)+1/6 # (1/6+1/6)+1/6 -0 because yaha per koi intersection nai hy according to update formaula\n",
    "p_e1_or_e2=2/6+1/6\n",
    "p_e1_or_e2"
   ]
  },
  {
   "cell_type": "code",
   "execution_count": null,
   "metadata": {},
   "outputs": [],
   "source": [
    "when calculation is big then we use addition rule, because theorical probabality does not work\n",
    "addition rule base on theorical probabality\n"
   ]
  },
  {
   "cell_type": "code",
   "execution_count": null,
   "metadata": {},
   "outputs": [],
   "source": [
    "e3={2,4,6}\n",
    "e4={4,5,6}\n",
    "p_e3_e4={2,4,5,6}\n",
    "4/6\n",
    "#this is theorical probabality"
   ]
  },
  {
   "cell_type": "code",
   "execution_count": null,
   "metadata": {},
   "outputs": [],
   "source": [
    "e3={2,4,6}\n",
    "e4={4,5,6}\n"
   ]
  },
  {
   "cell_type": "code",
   "execution_count": null,
   "metadata": {},
   "outputs": [],
   "source": [
    "3/6+3/6\n",
    "#this is wrong, because here is intersection and it does not work when there is intersection,so we need to update formula"
   ]
  },
  {
   "cell_type": "markdown",
   "metadata": {},
   "source": [
    "# p(A Or B )=p(A) + p(B) -p(A n B) #addition rule"
   ]
  },
  {
   "cell_type": "code",
   "execution_count": null,
   "metadata": {},
   "outputs": [],
   "source": [
    "e3={2,4,6}\n",
    "e4={4,5,6}\n",
    "e3ne4={2,4}"
   ]
  },
  {
   "cell_type": "code",
   "execution_count": null,
   "metadata": {},
   "outputs": [],
   "source": [
    "# p(e3 or e4 )=3/6+3/6-2/6"
   ]
  },
  {
   "cell_type": "code",
   "execution_count": null,
   "metadata": {},
   "outputs": [],
   "source": [
    "3/6+3/6-2/6"
   ]
  },
  {
   "cell_type": "code",
   "execution_count": null,
   "metadata": {},
   "outputs": [],
   "source": [
    "mutulay excusive mean which can not occur at same time like {2,4,6} in may sy koi 1 ay ga in sigle die.here intersection will ZERO\n",
    "\n",
    "Not mutulay excusive mean which can occur at same time mean i can buy red and white shirt at same time\n",
    "\n",
    "example die roll and both event can occure at same time \n",
    "event1 = even_number\n",
    "event2 = greater than 3\n",
    "event_1 = {2,4,6}\n",
    "event_2 = {4,5,6}\n",
    "{4,6} # mutually non exclusive, both event fullfill at same time"
   ]
  },
  {
   "cell_type": "markdown",
   "metadata": {},
   "source": [
    "# example of null"
   ]
  },
  {
   "cell_type": "markdown",
   "metadata": {},
   "source": [
    "# p(omaga)=sample_spae=1 #its probablity is always 1 which is certain"
   ]
  },
  {
   "cell_type": "code",
   "execution_count": null,
   "metadata": {},
   "outputs": [],
   "source": [
    "p(omaga)=1\n",
    "p(nul)=0\n",
    "1/0=0"
   ]
  },
  {
   "cell_type": "markdown",
   "metadata": {},
   "source": [
    "# example"
   ]
  },
  {
   "cell_type": "markdown",
   "metadata": {},
   "source": [
    "# advertisement company make a add and show their customer twice, how many chance that they will click the add"
   ]
  },
  {
   "cell_type": "code",
   "execution_count": null,
   "metadata": {},
   "outputs": [],
   "source": [
    "sample_space={\"clickclick\",\"clicknot\",\"notclick\",\"notnot\"}\n",
    "3/4"
   ]
  },
  {
   "cell_type": "code",
   "execution_count": null,
   "metadata": {},
   "outputs": [],
   "source": [
    "if i show same add 4th time then their is chance of click is more\n"
   ]
  },
  {
   "cell_type": "markdown",
   "metadata": {},
   "source": [
    "# example"
   ]
  },
  {
   "cell_type": "code",
   "execution_count": null,
   "metadata": {},
   "outputs": [],
   "source": [
    "a={2} #event a\n",
    "b={1,3,4,5,6} # event not a , mean all include just 2, if we call them then this is call certain event\n",
    "p(a or b)=1/6+5/6-0"
   ]
  },
  {
   "cell_type": "code",
   "execution_count": null,
   "metadata": {},
   "outputs": [],
   "source": [
    "1/6+5/6-0"
   ]
  },
  {
   "cell_type": "code",
   "execution_count": null,
   "metadata": {},
   "outputs": [],
   "source": [
    "e={2}\n",
    "non_e={1,3,4,5,6} #because this is other then a so it is complement"
   ]
  },
  {
   "cell_type": "markdown",
   "metadata": {},
   "source": [
    "* p(e or non_e)=1\n",
    "* p(e U non_e)=1\n",
    "* p(e U e_complement)=1\n",
    "#in all case probality is 1"
   ]
  },
  {
   "cell_type": "code",
   "execution_count": null,
   "metadata": {},
   "outputs": [],
   "source": [
    "how many percent chance (probablity) that i throw 3 or more then 3 coin throw that atleast got 1 head\n",
    "#infinite probablity"
   ]
  },
  {
   "cell_type": "code",
   "execution_count": null,
   "metadata": {},
   "outputs": [],
   "source": [
    "{3,4,5,------------------100,-------------2000------------------}"
   ]
  },
  {
   "cell_type": "code",
   "execution_count": null,
   "metadata": {},
   "outputs": [],
   "source": [
    "p(3 or more)=? \n",
    "p(3 U more)=? \n",
    "#these are same"
   ]
  },
  {
   "cell_type": "code",
   "execution_count": null,
   "metadata": {},
   "outputs": [],
   "source": [
    "e_C=3/4 #hh,ht,th,tt, i take complent that may 2 coin layta ho q k mary pass chance h y k 3 sy phly he a jau ga head"
   ]
  },
  {
   "cell_type": "code",
   "execution_count": null,
   "metadata": {},
   "outputs": [],
   "source": [
    "e=1-e_C\n",
    "e\n",
    "#mean 75 % chance that i get h in 1st 2 chance"
   ]
  },
  {
   "cell_type": "code",
   "execution_count": null,
   "metadata": {},
   "outputs": [],
   "source": [
    "composit experiment mean more then 2 experiment at same time\n",
    "throw die and toss coin at same time"
   ]
  },
  {
   "cell_type": "markdown",
   "metadata": {},
   "source": [
    "# example"
   ]
  },
  {
   "cell_type": "markdown",
   "metadata": {},
   "source": [
    "# throw the die,toss coin and fetch card prom play card is composite experiment.\n",
    "we use multiplication rule"
   ]
  },
  {
   "cell_type": "code",
   "execution_count": null,
   "metadata": {},
   "outputs": [],
   "source": [
    "p(A)=1/2 head \n",
    "p(B)=3/6 even number, this is mutuly not exclusive event. because they can occue at same time and can not impact on each other\n",
    "what are the chance that they occue both at same time"
   ]
  },
  {
   "cell_type": "markdown",
   "metadata": {},
   "source": [
    "sample_space={(\"H\",1)(\"H\",2)(\"H\",3)(\"H\",4)(\"H\",5)(\"H\",6)\n",
    "(\"T\",1)(\"T\",2)(\"T\",3)(\"T\",4)(\"T\",5)(\"T\",6)}\n",
    "success={(\"H\",2)(\"H\",4)(\"H\",6)}\n",
    "3/12"
   ]
  },
  {
   "cell_type": "code",
   "execution_count": null,
   "metadata": {},
   "outputs": [],
   "source": [
    "3/12"
   ]
  },
  {
   "cell_type": "code",
   "execution_count": null,
   "metadata": {},
   "outputs": [],
   "source": [
    "p(AnB)=p(A)*p(B)\n",
    "# this is multiplication rule which said when event is not mutuly exclusive we use this"
   ]
  },
  {
   "cell_type": "code",
   "execution_count": null,
   "metadata": {},
   "outputs": [],
   "source": [
    "p_AnB=1/2*3/6  #this is thoratical way\n",
    "p_AnB"
   ]
  },
  {
   "cell_type": "markdown",
   "metadata": {},
   "source": [
    "# addtion is union and multiplication is interscation in set"
   ]
  },
  {
   "cell_type": "markdown",
   "metadata": {},
   "source": [
    "# example"
   ]
  },
  {
   "cell_type": "markdown",
   "metadata": {},
   "source": [
    "# how many chance that we throw a coin 18 time and i get head "
   ]
  },
  {
   "cell_type": "code",
   "execution_count": null,
   "metadata": {},
   "outputs": [],
   "source": [
    "this is not mutuly excusive experiment, use multiplication rule"
   ]
  },
  {
   "cell_type": "code",
   "execution_count": null,
   "metadata": {},
   "outputs": [],
   "source": [
    "(1/2)**18"
   ]
  },
  {
   "cell_type": "code",
   "execution_count": null,
   "metadata": {},
   "outputs": [],
   "source": [
    "1/2 * 1/2 * 1/2 * 1/2 * 1/2 * 1/2 * 1/2 * 1/2 * 1/2 * 1/2 * 1/2 * 1/2 * 1/2 * 1/2 * 1/2 * 1/2 * 1/2 * 1/2"
   ]
  },
  {
   "cell_type": "code",
   "execution_count": null,
   "metadata": {},
   "outputs": [],
   "source": [
    "float((1/2)**18)"
   ]
  },
  {
   "cell_type": "code",
   "execution_count": null,
   "metadata": {},
   "outputs": [],
   "source": [
    "(1/2)**18"
   ]
  },
  {
   "cell_type": "markdown",
   "metadata": {},
   "source": [
    "multiplication rule is use when one event did to depend on other event\n",
    "this is call event a independed on event b "
   ]
  },
  {
   "cell_type": "markdown",
   "metadata": {},
   "source": [
    "but some time event depend on othere event.\n",
    "event a depend on event b,we did not use multiplication rule\n"
   ]
  },
  {
   "cell_type": "code",
   "execution_count": null,
   "metadata": {},
   "outputs": [],
   "source": [
    "in card there is 4/52 chance of king "
   ]
  },
  {
   "cell_type": "code",
   "execution_count": null,
   "metadata": {},
   "outputs": [],
   "source": [
    "#i withdraw the card of king and same time i return it back /repalace, this is independed event\n",
    "(4/52)**4"
   ]
  },
  {
   "cell_type": "code",
   "execution_count": null,
   "metadata": {
    "scrolled": true
   },
   "outputs": [],
   "source": [
    "#i withdraw the card of king and same time i did not return it back , this is depended event, this is dependacy rule\n",
    "(4/52)*(3/51)*(2/50)*(1/49)"
   ]
  },
  {
   "cell_type": "markdown",
   "metadata": {},
   "source": [
    "# where order matter we ue permutaion"
   ]
  },
  {
   "cell_type": "code",
   "execution_count": 16,
   "metadata": {},
   "outputs": [
    {
     "data": {
      "text/plain": [
       "1268"
      ]
     },
     "execution_count": 16,
     "metadata": {},
     "output_type": "execute_result"
    }
   ],
   "source": [
    "8261 # ATM case - order matter - Permutaion\n",
    "1268"
   ]
  },
  {
   "cell_type": "markdown",
   "metadata": {},
   "source": [
    "# where order does not metter"
   ]
  },
  {
   "cell_type": "code",
   "execution_count": null,
   "metadata": {},
   "outputs": [],
   "source": [
    "3,11,12,14,41,43 # Lottery -order doesnt matter - Combination\n",
    "\n",
    "43,41,14,12,11,3"
   ]
  },
  {
   "cell_type": "code",
   "execution_count": null,
   "metadata": {},
   "outputs": [],
   "source": [
    "1,43,2,9,21,8 # without replacement of Lottery ticket\n"
   ]
  },
  {
   "cell_type": "code",
   "execution_count": null,
   "metadata": {},
   "outputs": [],
   "source": [
    "52\n",
    "\n",
    "4/52*3/51*2/50*2/49 # without replacement of pay card "
   ]
  },
  {
   "cell_type": "code",
   "execution_count": null,
   "metadata": {},
   "outputs": [],
   "source": [
    "4/52*4/52*4/52*4/52 # with replacement"
   ]
  },
  {
   "cell_type": "code",
   "execution_count": null,
   "metadata": {},
   "outputs": [],
   "source": [
    "# n!\n",
    "\n",
    "# 5*4*3*2*1\n",
    "# when we play with all cards "
   ]
  },
  {
   "cell_type": "code",
   "execution_count": 29,
   "metadata": {},
   "outputs": [
    {
     "name": "stdout",
     "output_type": "stream",
     "text": [
      "0\n",
      "1\n",
      "2\n",
      "3\n",
      "4\n"
     ]
    }
   ],
   "source": [
    "for i in range(5):\n",
    "    print(i)"
   ]
  },
  {
   "cell_type": "code",
   "execution_count": 37,
   "metadata": {},
   "outputs": [
    {
     "name": "stdout",
     "output_type": "stream",
     "text": [
      "5\n",
      "4\n",
      "3\n",
      "2\n",
      "1\n"
     ]
    }
   ],
   "source": [
    "for i in range(5,0,-1):\n",
    "    print(i)"
   ]
  },
  {
   "cell_type": "code",
   "execution_count": 27,
   "metadata": {},
   "outputs": [],
   "source": [
    "def fact(n):\n",
    "    if n == 0:\n",
    "        return 1\n",
    "    else:\n",
    "        factorial = n\n",
    "        for i in range(n-1,1,-1):\n",
    "            factorial *= i\n",
    "        return factorial"
   ]
  },
  {
   "cell_type": "code",
   "execution_count": 28,
   "metadata": {},
   "outputs": [
    {
     "data": {
      "text/plain": [
       "120"
      ]
     },
     "execution_count": 28,
     "metadata": {},
     "output_type": "execute_result"
    }
   ],
   "source": [
    "5*4*3*2*1"
   ]
  },
  {
   "cell_type": "code",
   "execution_count": 29,
   "metadata": {},
   "outputs": [
    {
     "data": {
      "text/plain": [
       "120"
      ]
     },
     "execution_count": 29,
     "metadata": {},
     "output_type": "execute_result"
    }
   ],
   "source": [
    "fact(5)"
   ]
  },
  {
   "cell_type": "code",
   "execution_count": 30,
   "metadata": {},
   "outputs": [
    {
     "data": {
      "text/plain": [
       "720"
      ]
     },
     "execution_count": 30,
     "metadata": {},
     "output_type": "execute_result"
    }
   ],
   "source": [
    "6*5*4*3*2*1"
   ]
  },
  {
   "cell_type": "code",
   "execution_count": 31,
   "metadata": {},
   "outputs": [
    {
     "data": {
      "text/plain": [
       "720"
      ]
     },
     "execution_count": 31,
     "metadata": {},
     "output_type": "execute_result"
    }
   ],
   "source": [
    "fact(6)"
   ]
  },
  {
   "cell_type": "code",
   "execution_count": 32,
   "metadata": {},
   "outputs": [
    {
     "data": {
      "text/plain": [
       "132601"
      ]
     },
     "execution_count": 32,
     "metadata": {},
     "output_type": "execute_result"
    }
   ],
   "source": [
    "52*51*50--------------------------------------------1"
   ]
  },
  {
   "cell_type": "code",
   "execution_count": 33,
   "metadata": {
    "scrolled": true
   },
   "outputs": [
    {
     "data": {
      "text/plain": [
       "80658175170943878571660636856403766975289505440883277824000000000000"
      ]
     },
     "execution_count": 33,
     "metadata": {},
     "output_type": "execute_result"
    }
   ],
   "source": [
    "fact(52)"
   ]
  },
  {
   "cell_type": "markdown",
   "metadata": {},
   "source": [
    "**sometime we did not paly with 52 cards, same 6/49 we just play with 6 digits**"
   ]
  },
  {
   "cell_type": "code",
   "execution_count": 34,
   "metadata": {},
   "outputs": [
    {
     "data": {
      "text/plain": [
       "6497400"
      ]
     },
     "execution_count": 34,
     "metadata": {},
     "output_type": "execute_result"
    }
   ],
   "source": [
    "52*51*50*49"
   ]
  },
  {
   "cell_type": "code",
   "execution_count": 35,
   "metadata": {},
   "outputs": [],
   "source": [
    "# permutaion = n!/(n-k)!\n",
    "# when we play with just few cards, we read as n choos k"
   ]
  },
  {
   "cell_type": "code",
   "execution_count": 36,
   "metadata": {},
   "outputs": [],
   "source": [
    "def permutaion(n,k):\n",
    "    num = fact(n)\n",
    "    den = fact(n-k)\n",
    "    return num/den\n",
    "#when we have k the we use permutaion otherwise we use n!\n",
    "#we permutaion when order matter"
   ]
  },
  {
   "cell_type": "code",
   "execution_count": 37,
   "metadata": {},
   "outputs": [
    {
     "data": {
      "text/plain": [
       "6497400.0"
      ]
     },
     "execution_count": 37,
     "metadata": {},
     "output_type": "execute_result"
    }
   ],
   "source": [
    "permutaion(52,4)"
   ]
  },
  {
   "cell_type": "code",
   "execution_count": 38,
   "metadata": {},
   "outputs": [
    {
     "data": {
      "text/plain": [
       "120"
      ]
     },
     "execution_count": 38,
     "metadata": {},
     "output_type": "execute_result"
    }
   ],
   "source": [
    "{1,2,3,4,5}\n",
    "\n",
    "fact(5)"
   ]
  },
  {
   "cell_type": "code",
   "execution_count": 39,
   "metadata": {},
   "outputs": [
    {
     "data": {
      "text/plain": [
       "120.0"
      ]
     },
     "execution_count": 39,
     "metadata": {},
     "output_type": "execute_result"
    }
   ],
   "source": [
    "permutaion(5,5)"
   ]
  },
  {
   "cell_type": "code",
   "execution_count": 40,
   "metadata": {},
   "outputs": [
    {
     "data": {
      "text/plain": [
       "120"
      ]
     },
     "execution_count": 40,
     "metadata": {},
     "output_type": "execute_result"
    }
   ],
   "source": [
    "fact(5)"
   ]
  },
  {
   "cell_type": "code",
   "execution_count": 41,
   "metadata": {},
   "outputs": [
    {
     "data": {
      "text/plain": [
       "1"
      ]
     },
     "execution_count": 41,
     "metadata": {},
     "output_type": "execute_result"
    }
   ],
   "source": [
    "fact(0)"
   ]
  },
  {
   "cell_type": "code",
   "execution_count": 42,
   "metadata": {
    "scrolled": true
   },
   "outputs": [
    {
     "data": {
      "text/plain": [
       "20.0"
      ]
     },
     "execution_count": 42,
     "metadata": {},
     "output_type": "execute_result"
    }
   ],
   "source": [
    "permutaion(5,2)"
   ]
  },
  {
   "cell_type": "code",
   "execution_count": 43,
   "metadata": {},
   "outputs": [
    {
     "data": {
      "text/plain": [
       "10.0"
      ]
     },
     "execution_count": 43,
     "metadata": {},
     "output_type": "execute_result"
    }
   ],
   "source": [
    "20.0/2 # # n!/k!(n-k)! formula"
   ]
  },
  {
   "cell_type": "code",
   "execution_count": 44,
   "metadata": {},
   "outputs": [
    {
     "ename": "SyntaxError",
     "evalue": "invalid syntax (<ipython-input-44-7b03ff7ae8c9>, line 16)",
     "output_type": "error",
     "traceback": [
      "\u001b[1;36m  File \u001b[1;32m\"<ipython-input-44-7b03ff7ae8c9>\"\u001b[1;36m, line \u001b[1;32m16\u001b[0m\n\u001b[1;33m    {1,2,3},{1,3,2},{3,1,2} order doesnot mater in combination\u001b[0m\n\u001b[1;37m                            ^\u001b[0m\n\u001b[1;31mSyntaxError\u001b[0m\u001b[1;31m:\u001b[0m invalid syntax\n"
     ]
    }
   ],
   "source": [
    "{1,2,3,4,5}={(1,1),(1,2),(1,3),(1,4),(1,5),(2,1),(2,2),(2,3),(2,4),(2,5)}\n",
    "#we have 5 values and just want to repalce 2 then these are the combination 20, when order matter\n",
    "\n",
    "\n",
    "{1,2,3,4,5}={(1,1),(1,2),(1,3),(1,4),(1,5),\n",
    "             (2,1),(2,2),(2,3),(2,4),(2,5),\n",
    "             (3,1),(3,2),(3,3),(3,4),(3,5),\n",
    "             (4,1),(4,2),(4,3),(4,4),(4,5),\n",
    "             (5,1),(5,2),(5,3),(5,4),(5,5)}\n",
    "\n",
    "{1,2,3,4,5}={(1,1)(2,1)(3,1)(4,1)(5,1)}\n",
    "#we have 5 values and do not replace , when order does not matter then 10 combination will exit\n",
    "\n",
    "\n",
    "\n",
    "{1,2,3},{1,3,2},{3,1,2} order doesnot mater in combination"
   ]
  },
  {
   "cell_type": "code",
   "execution_count": 45,
   "metadata": {},
   "outputs": [
    {
     "data": {
      "text/plain": [
       "60.0"
      ]
     },
     "execution_count": 45,
     "metadata": {},
     "output_type": "execute_result"
    }
   ],
   "source": [
    "permutaion(5,3)"
   ]
  },
  {
   "cell_type": "code",
   "execution_count": 46,
   "metadata": {},
   "outputs": [],
   "source": [
    "def comb(n, k):\n",
    "    num = fact(n)\n",
    "    den = fact(k)*fact(n-k)\n",
    "    return num/den"
   ]
  },
  {
   "cell_type": "code",
   "execution_count": null,
   "metadata": {},
   "outputs": [],
   "source": []
  },
  {
   "cell_type": "markdown",
   "metadata": {},
   "source": [
    "**-------------------------------------------------------------------------------------------------------------------------------------------------------------------------------------------------------------------------------------------------0000000000000000000000000000000000000000000000000000000000000000000000000000000000000000000000000000000000000000000000000000000000000000000000000000000000000000000000000000000000000000000000000000000000000000000000000000000000000000000000000000000000000-------------------------------------------------------------------------------------------------------------------------------------------------------------------------------------------------------------------------------------------------**"
   ]
  },
  {
   "cell_type": "markdown",
   "metadata": {},
   "source": [
    "# Work on dataset file"
   ]
  },
  {
   "cell_type": "code",
   "execution_count": 47,
   "metadata": {},
   "outputs": [],
   "source": [
    "import numpy as np\n",
    "import pandas as pd\n",
    "import matplotlib.pyplot as plt"
   ]
  },
  {
   "cell_type": "code",
   "execution_count": 48,
   "metadata": {},
   "outputs": [],
   "source": [
    "def toss():\n",
    "    n=np.random.randint(0,2)\n",
    "    if n==1:\n",
    "        return \"Head\"\n",
    "    else:\n",
    "        return \"Tail\"\n",
    "        \n",
    "    "
   ]
  },
  {
   "cell_type": "code",
   "execution_count": 49,
   "metadata": {},
   "outputs": [
    {
     "data": {
      "text/plain": [
       "'Tail'"
      ]
     },
     "execution_count": 49,
     "metadata": {},
     "output_type": "execute_result"
    }
   ],
   "source": [
    "toss()"
   ]
  },
  {
   "cell_type": "code",
   "execution_count": 50,
   "metadata": {},
   "outputs": [],
   "source": [
    "experiment=0\n",
    "head=0\n",
    "p_coin=[]\n",
    "np.random.seed(123)\n",
    "for i in range(10000):\n",
    "    experiment +=1\n",
    "    result=toss()\n",
    "    if result==\"Head\":\n",
    "        head  +=1\n",
    "        p=head/experiment\n",
    "        p_coin.append(p)\n",
    "    "
   ]
  },
  {
   "cell_type": "code",
   "execution_count": 51,
   "metadata": {
    "scrolled": false
   },
   "outputs": [
    {
     "data": {
      "text/plain": [
       "[0.5,\n",
       " 0.25,\n",
       " 0.3333333333333333,\n",
       " 0.36363636363636365,\n",
       " 0.4166666666666667,\n",
       " 0.42857142857142855,\n",
       " 0.4375,\n",
       " 0.4444444444444444,\n",
       " 0.47368421052631576,\n",
       " 0.43478260869565216,\n",
       " 0.4583333333333333,\n",
       " 0.48,\n",
       " 0.48148148148148145,\n",
       " 0.4375,\n",
       " 0.45454545454545453,\n",
       " 0.47058823529411764,\n",
       " 0.4594594594594595,\n",
       " 0.45,\n",
       " 0.4523809523809524,\n",
       " 0.45454545454545453,\n",
       " 0.4666666666666667,\n",
       " 0.4782608695652174,\n",
       " 0.45098039215686275,\n",
       " 0.46153846153846156,\n",
       " 0.45454545454545453,\n",
       " 0.45614035087719296,\n",
       " 0.45,\n",
       " 0.45161290322580644,\n",
       " 0.453125,\n",
       " 0.43478260869565216,\n",
       " 0.4305555555555556,\n",
       " 0.4383561643835616,\n",
       " 0.44594594594594594,\n",
       " 0.4533333333333333,\n",
       " 0.4375,\n",
       " 0.4444444444444444,\n",
       " 0.43023255813953487,\n",
       " 0.4318181818181818,\n",
       " 0.43820224719101125,\n",
       " 0.43956043956043955,\n",
       " 0.44565217391304346,\n",
       " 0.45161290322580644,\n",
       " 0.45263157894736844,\n",
       " 0.4583333333333333,\n",
       " 0.4639175257731959,\n",
       " 0.45544554455445546,\n",
       " 0.4519230769230769,\n",
       " 0.45714285714285713,\n",
       " 0.46226415094339623,\n",
       " 0.46296296296296297,\n",
       " 0.46788990825688076,\n",
       " 0.4642857142857143,\n",
       " 0.4690265486725664,\n",
       " 0.46956521739130436,\n",
       " 0.47413793103448276,\n",
       " 0.47863247863247865,\n",
       " 0.4830508474576271,\n",
       " 0.48739495798319327,\n",
       " 0.49166666666666664,\n",
       " 0.49586776859504134,\n",
       " 0.4959349593495935,\n",
       " 0.5,\n",
       " 0.504,\n",
       " 0.5079365079365079,\n",
       " 0.5,\n",
       " 0.5038167938931297,\n",
       " 0.5,\n",
       " 0.5037037037037037,\n",
       " 0.49640287769784175,\n",
       " 0.49645390070921985,\n",
       " 0.5,\n",
       " 0.496551724137931,\n",
       " 0.4965986394557823,\n",
       " 0.5,\n",
       " 0.5033557046979866,\n",
       " 0.5066666666666667,\n",
       " 0.506578947368421,\n",
       " 0.5064935064935064,\n",
       " 0.5031847133757962,\n",
       " 0.5063291139240507,\n",
       " 0.50625,\n",
       " 0.5093167701863354,\n",
       " 0.5123456790123457,\n",
       " 0.5121951219512195,\n",
       " 0.5151515151515151,\n",
       " 0.5180722891566265,\n",
       " 0.5209580838323353,\n",
       " 0.5176470588235295,\n",
       " 0.52046783625731,\n",
       " 0.5172413793103449,\n",
       " 0.5112359550561798,\n",
       " 0.5111111111111111,\n",
       " 0.5138121546961326,\n",
       " 0.5081081081081081,\n",
       " 0.5053191489361702,\n",
       " 0.5026178010471204,\n",
       " 0.5,\n",
       " 0.49246231155778897,\n",
       " 0.4925373134328358,\n",
       " 0.49504950495049505,\n",
       " 0.49029126213592233,\n",
       " 0.4857142857142857,\n",
       " 0.48130841121495327,\n",
       " 0.48148148148148145,\n",
       " 0.4838709677419355,\n",
       " 0.48623853211009177,\n",
       " 0.4885844748858447,\n",
       " 0.48868778280542985,\n",
       " 0.49099099099099097,\n",
       " 0.49327354260089684,\n",
       " 0.4955357142857143,\n",
       " 0.4933920704845815,\n",
       " 0.4956140350877193,\n",
       " 0.4978165938864629,\n",
       " 0.5,\n",
       " 0.5021645021645021,\n",
       " 0.5,\n",
       " 0.502127659574468,\n",
       " 0.5042372881355932,\n",
       " 0.5042016806722689,\n",
       " 0.5,\n",
       " 0.5020576131687243,\n",
       " 0.5040983606557377,\n",
       " 0.5040650406504065,\n",
       " 0.5020080321285141,\n",
       " 0.504,\n",
       " 0.5059760956175299,\n",
       " 0.5059288537549407,\n",
       " 0.5078740157480315,\n",
       " 0.5038759689922481,\n",
       " 0.5038461538461538,\n",
       " 0.5057471264367817,\n",
       " 0.5037878787878788,\n",
       " 0.5056603773584906,\n",
       " 0.5075187969924813,\n",
       " 0.5093632958801498,\n",
       " 0.5111940298507462,\n",
       " 0.5111111111111111,\n",
       " 0.5129151291512916,\n",
       " 0.5147058823529411,\n",
       " 0.5145985401459854,\n",
       " 0.5163636363636364,\n",
       " 0.5125448028673835,\n",
       " 0.5142857142857142,\n",
       " 0.5123674911660777,\n",
       " 0.5087108013937283,\n",
       " 0.5086505190311419,\n",
       " 0.5103448275862069,\n",
       " 0.5120274914089347,\n",
       " 0.5119453924914675,\n",
       " 0.5136054421768708,\n",
       " 0.5152542372881356,\n",
       " 0.51,\n",
       " 0.5099337748344371,\n",
       " 0.5115511551155115,\n",
       " 0.5131578947368421,\n",
       " 0.5147540983606558,\n",
       " 0.5146579804560261,\n",
       " 0.5162337662337663,\n",
       " 0.517799352750809,\n",
       " 0.5193548387096775,\n",
       " 0.5209003215434084,\n",
       " 0.5224358974358975,\n",
       " 0.5206349206349207,\n",
       " 0.5188679245283019,\n",
       " 0.51875,\n",
       " 0.5202492211838006,\n",
       " 0.5217391304347826,\n",
       " 0.5232198142414861,\n",
       " 0.5246913580246914,\n",
       " 0.5261538461538462,\n",
       " 0.5259938837920489,\n",
       " 0.5274390243902439,\n",
       " 0.5288753799392097,\n",
       " 0.5255255255255256,\n",
       " 0.5269461077844312,\n",
       " 0.5267857142857143,\n",
       " 0.5250737463126843,\n",
       " 0.5249266862170088,\n",
       " 0.5263157894736842,\n",
       " 0.521613832853026,\n",
       " 0.5229885057471264,\n",
       " 0.5243553008595988,\n",
       " 0.5257142857142857,\n",
       " 0.5270655270655271,\n",
       " 0.5269121813031161,\n",
       " 0.5267605633802817,\n",
       " 0.5280898876404494,\n",
       " 0.5294117647058824,\n",
       " 0.5277777777777778,\n",
       " 0.5261707988980716,\n",
       " 0.5203252032520326,\n",
       " 0.5216216216216216,\n",
       " 0.521505376344086,\n",
       " 0.5186170212765957,\n",
       " 0.519893899204244,\n",
       " 0.5197889182058048,\n",
       " 0.5196850393700787,\n",
       " 0.5195822454308094,\n",
       " 0.5208333333333334,\n",
       " 0.5180412371134021,\n",
       " 0.517948717948718,\n",
       " 0.5191815856777494,\n",
       " 0.5177664974619289,\n",
       " 0.5163727959697733,\n",
       " 0.5175879396984925,\n",
       " 0.516209476309227,\n",
       " 0.5174129353233831,\n",
       " 0.5173267326732673,\n",
       " 0.5172413793103449,\n",
       " 0.5184275184275184,\n",
       " 0.5196078431372549,\n",
       " 0.5195121951219512,\n",
       " 0.5206812652068127,\n",
       " 0.5218446601941747,\n",
       " 0.5230024213075061,\n",
       " 0.5241545893719807,\n",
       " 0.5227817745803357,\n",
       " 0.5239234449760766,\n",
       " 0.5250596658711217,\n",
       " 0.5261904761904762,\n",
       " 0.5273159144893111,\n",
       " 0.5284360189573459,\n",
       " 0.5295508274231678,\n",
       " 0.5306603773584906,\n",
       " 0.5317647058823529,\n",
       " 0.5328638497652582,\n",
       " 0.5339578454332553,\n",
       " 0.5350467289719626,\n",
       " 0.5361305361305362,\n",
       " 0.5347222222222222,\n",
       " 0.535796766743649,\n",
       " 0.5368663594470046,\n",
       " 0.5354691075514875,\n",
       " 0.5316742081447964,\n",
       " 0.5279642058165548,\n",
       " 0.5278396436525612,\n",
       " 0.5277161862527716,\n",
       " 0.5241228070175439,\n",
       " 0.5251641137855579,\n",
       " 0.5250544662309368,\n",
       " 0.5249457700650759,\n",
       " 0.5248380129589633,\n",
       " 0.5258620689655172,\n",
       " 0.5268817204301075,\n",
       " 0.5267665952890792,\n",
       " 0.5233050847457628,\n",
       " 0.5243128964059197,\n",
       " 0.5253164556962026,\n",
       " 0.5230125523012552,\n",
       " 0.524008350730689,\n",
       " 0.525,\n",
       " 0.5216494845360825,\n",
       " 0.5215605749486653,\n",
       " 0.5225409836065574,\n",
       " 0.5224489795918368,\n",
       " 0.5212981744421906,\n",
       " 0.5191146881287726,\n",
       " 0.5149105367793241,\n",
       " 0.5158730158730159,\n",
       " 0.514792899408284,\n",
       " 0.515748031496063,\n",
       " 0.5166994106090373,\n",
       " 0.5176470588235295,\n",
       " 0.5185909980430529,\n",
       " 0.51953125,\n",
       " 0.5184466019417475,\n",
       " 0.5183752417794971,\n",
       " 0.5193050193050193,\n",
       " 0.5192307692307693,\n",
       " 0.5191570881226054,\n",
       " 0.518095238095238,\n",
       " 0.5190114068441065,\n",
       " 0.5199240986717267,\n",
       " 0.5188679245283019,\n",
       " 0.519774011299435,\n",
       " 0.5206766917293233,\n",
       " 0.5196261682242991,\n",
       " 0.5205223880597015,\n",
       " 0.521415270018622,\n",
       " 0.5223048327137546,\n",
       " 0.5231910946196661,\n",
       " 0.5231053604436229,\n",
       " 0.5211009174311927,\n",
       " 0.5210237659963437,\n",
       " 0.5218978102189781,\n",
       " 0.5227686703096539,\n",
       " 0.5207956600361664,\n",
       " 0.5207207207207207,\n",
       " 0.5215827338129496,\n",
       " 0.521505376344086,\n",
       " 0.5168141592920354,\n",
       " 0.5176678445229682,\n",
       " 0.5176056338028169,\n",
       " 0.5184534270650264,\n",
       " 0.519298245614035,\n",
       " 0.5201401050788091,\n",
       " 0.5209790209790209,\n",
       " 0.52,\n",
       " 0.5190311418685121,\n",
       " 0.5198618307426598,\n",
       " 0.5189003436426117,\n",
       " 0.5197255574614065,\n",
       " 0.5205479452054794,\n",
       " 0.5213675213675214,\n",
       " 0.5221843003412969,\n",
       " 0.5203389830508475,\n",
       " 0.5211505922165821,\n",
       " 0.5219594594594594,\n",
       " 0.5227655986509275,\n",
       " 0.5235690235690236,\n",
       " 0.5243697478991597,\n",
       " 0.5251677852348994,\n",
       " 0.5233333333333333,\n",
       " 0.5241264559068219,\n",
       " 0.5249169435215947,\n",
       " 0.5257048092868989,\n",
       " 0.5238879736408567,\n",
       " 0.524671052631579,\n",
       " 0.5245901639344263,\n",
       " 0.5253682487725041,\n",
       " 0.5244299674267101,\n",
       " 0.5252032520325203,\n",
       " 0.525974025974026,\n",
       " 0.526742301458671,\n",
       " 0.5275080906148867,\n",
       " 0.5265700483091788,\n",
       " 0.5248,\n",
       " 0.5255591054313099,\n",
       " 0.5263157894736842,\n",
       " 0.5262321144674086,\n",
       " 0.526984126984127,\n",
       " 0.5227629513343799,\n",
       " 0.5226917057902973,\n",
       " 0.5234375,\n",
       " 0.5241809672386896,\n",
       " 0.5249221183800623,\n",
       " 0.5248447204968945,\n",
       " 0.5255813953488372,\n",
       " 0.5255023183925811,\n",
       " 0.5246153846153846,\n",
       " 0.5213414634146342,\n",
       " 0.5220700152207002,\n",
       " 0.5220030349013657,\n",
       " 0.5219364599092284,\n",
       " 0.5226586102719033,\n",
       " 0.5233785822021116,\n",
       " 0.5240963855421686,\n",
       " 0.524812030075188,\n",
       " 0.5239520958083832,\n",
       " 0.5230998509687034,\n",
       " 0.5222551928783383,\n",
       " 0.522962962962963,\n",
       " 0.5236686390532544,\n",
       " 0.5228276877761414,\n",
       " 0.5227606461086637,\n",
       " 0.5211678832116788,\n",
       " 0.521865889212828,\n",
       " 0.5225618631732168,\n",
       " 0.5232558139534884,\n",
       " 0.5231884057971015,\n",
       " 0.523121387283237,\n",
       " 0.521551724137931,\n",
       " 0.5214899713467048,\n",
       " 0.5221745350500715,\n",
       " 0.5228571428571429,\n",
       " 0.5220483641536273,\n",
       " 0.5219858156028369,\n",
       " 0.521923620933522,\n",
       " 0.5225988700564972,\n",
       " 0.5232722143864598,\n",
       " 0.523943661971831,\n",
       " 0.523876404494382,\n",
       " 0.5223463687150838,\n",
       " 0.5222841225626741,\n",
       " 0.5222222222222223,\n",
       " 0.5228848821081831,\n",
       " 0.5220994475138122,\n",
       " 0.5213204951856947,\n",
       " 0.521978021978022,\n",
       " 0.522633744855967,\n",
       " 0.5232876712328767,\n",
       " 0.5239398084815321,\n",
       " 0.5231607629427792,\n",
       " 0.5238095238095238,\n",
       " 0.5244565217391305,\n",
       " 0.524390243902439,\n",
       " 0.5243243243243243,\n",
       " 0.524966261808367,\n",
       " 0.5220883534136547,\n",
       " 0.5213333333333333,\n",
       " 0.519205298013245,\n",
       " 0.5198412698412699,\n",
       " 0.5204755614266843,\n",
       " 0.521108179419525,\n",
       " 0.5196850393700787,\n",
       " 0.5203145478374837,\n",
       " 0.5202614379084968,\n",
       " 0.5181818181818182,\n",
       " 0.5154639175257731,\n",
       " 0.5160875160875161,\n",
       " 0.5140664961636828,\n",
       " 0.5146871008939975,\n",
       " 0.5146496815286624,\n",
       " 0.5133079847908745,\n",
       " 0.5132743362831859,\n",
       " 0.5132408575031526,\n",
       " 0.5125628140703518,\n",
       " 0.5131744040150564,\n",
       " 0.5131414267834794,\n",
       " 0.5099255583126551,\n",
       " 0.5105328376703842,\n",
       " 0.5105067985166872,\n",
       " 0.5111111111111111,\n",
       " 0.5110837438423645,\n",
       " 0.5116851168511685,\n",
       " 0.5116564417177915,\n",
       " 0.5116279069767442,\n",
       " 0.5122249388753056,\n",
       " 0.5128205128205128,\n",
       " 0.51278928136419,\n",
       " 0.5127582017010935,\n",
       " 0.5133495145631068,\n",
       " 0.5126964933494559,\n",
       " 0.5126658624849216,\n",
       " 0.5132530120481927,\n",
       " 0.5138387484957883,\n",
       " 0.5144230769230769,\n",
       " 0.5150060024009604,\n",
       " 0.5155875299760192,\n",
       " 0.5137067938021455,\n",
       " 0.5142857142857142,\n",
       " 0.5142517814726841,\n",
       " 0.5148279952550415,\n",
       " 0.5154028436018957,\n",
       " 0.5159763313609468,\n",
       " 0.5159386068476978,\n",
       " 0.5165094339622641,\n",
       " 0.5170789163722026,\n",
       " 0.5176470588235295,\n",
       " 0.5176056338028169,\n",
       " 0.5181711606096131,\n",
       " 0.5187353629976581,\n",
       " 0.5180863477246208,\n",
       " 0.5168408826945412,\n",
       " 0.5174013921113689,\n",
       " 0.5179606025492468,\n",
       " 0.5185185185185185,\n",
       " 0.5190751445086705,\n",
       " 0.5172413793103449,\n",
       " 0.5160183066361556,\n",
       " 0.5165714285714286,\n",
       " 0.5159453302961275,\n",
       " 0.5164960182025028,\n",
       " 0.5170454545454546,\n",
       " 0.5175936435868331,\n",
       " 0.5175537938844847,\n",
       " 0.5180995475113123,\n",
       " 0.518058690744921,\n",
       " 0.5186020293122886,\n",
       " 0.5185601799775028,\n",
       " 0.5191011235955056,\n",
       " 0.5196408529741863,\n",
       " 0.5201793721973094,\n",
       " 0.5195530726256983,\n",
       " 0.5200892857142857,\n",
       " 0.5183129855715871,\n",
       " 0.5188470066518847,\n",
       " 0.5193798449612403,\n",
       " 0.5199115044247787,\n",
       " 0.5192943770672547,\n",
       " 0.5198237885462555,\n",
       " 0.518640350877193,\n",
       " 0.5180327868852459,\n",
       " 0.5185589519650655,\n",
       " 0.5190839694656488,\n",
       " 0.5196078431372549,\n",
       " 0.5184381778741866,\n",
       " 0.5167206040992449,\n",
       " 0.5172413793103449,\n",
       " 0.5177610333692142,\n",
       " 0.5177228786251342,\n",
       " 0.5176848874598071,\n",
       " 0.5170940170940171,\n",
       " 0.5176093916755603,\n",
       " 0.5181236673773987,\n",
       " 0.5180851063829788,\n",
       " 0.5174973488865323,\n",
       " 0.5180084745762712,\n",
       " 0.5185185185185185,\n",
       " 0.5190274841437632,\n",
       " 0.5189873417721519,\n",
       " 0.5194942044257113,\n",
       " 0.52,\n",
       " 0.5205047318611987,\n",
       " 0.5210084033613446,\n",
       " 0.5182481751824818,\n",
       " 0.518210197710718,\n",
       " 0.5181723779854621,\n",
       " 0.5181347150259067,\n",
       " 0.5186335403726708,\n",
       " 0.5191313340227508,\n",
       " 0.5196280991735537,\n",
       " 0.5201238390092879,\n",
       " 0.5200823892893924,\n",
       " 0.5200411099691675,\n",
       " 0.52,\n",
       " 0.5188968335035751,\n",
       " 0.516751269035533,\n",
       " 0.5167173252279635,\n",
       " 0.5172064777327935,\n",
       " 0.5176946410515673,\n",
       " 0.5181818181818182,\n",
       " 0.5186680121089808,\n",
       " 0.5191532258064516,\n",
       " 0.5196374622356495,\n",
       " 0.5195979899497487,\n",
       " 0.5195586760280843,\n",
       " 0.5200400801603207,\n",
       " 0.52,\n",
       " 0.5199600798403193,\n",
       " 0.5204386839481555,\n",
       " 0.5209163346613546,\n",
       " 0.5213930348258706,\n",
       " 0.5218687872763419,\n",
       " 0.5218253968253969,\n",
       " 0.5222993062438057,\n",
       " 0.5227722772277228,\n",
       " 0.52324431256182,\n",
       " 0.5237154150197628,\n",
       " 0.5241855873642646,\n",
       " 0.5241379310344828,\n",
       " 0.5240904621435595,\n",
       " 0.5245579567779961,\n",
       " 0.5250245338567223,\n",
       " 0.5239491691104594,\n",
       " 0.5244140625,\n",
       " 0.5248780487804878,\n",
       " 0.52431906614786,\n",
       " 0.5247813411078717,\n",
       " 0.524733268671193,\n",
       " 0.5251937984496124,\n",
       " 0.5256534365924492,\n",
       " 0.5261121856866537,\n",
       " 0.5260617760617761,\n",
       " 0.525,\n",
       " 0.5249520153550864,\n",
       " 0.5254074784276127,\n",
       " 0.5253588516746411,\n",
       " 0.5258126195028681,\n",
       " 0.5262655205348615,\n",
       " 0.5267175572519084,\n",
       " 0.5271687321258341,\n",
       " 0.527117031398668,\n",
       " 0.5265654648956357,\n",
       " 0.5265151515151515,\n",
       " 0.5269631031220435,\n",
       " 0.5274102079395085,\n",
       " 0.5278564683663833,\n",
       " 0.527803958529689,\n",
       " 0.5282485875706214,\n",
       " 0.5281954887218046,\n",
       " 0.5286384976525822,\n",
       " 0.5280898876404494,\n",
       " 0.5270522388059702,\n",
       " 0.527493010251631,\n",
       " 0.5279329608938548,\n",
       " 0.5283720930232558,\n",
       " 0.5288104089219331,\n",
       " 0.5287569573283859,\n",
       " 0.5287037037037037,\n",
       " 0.5286506469500925,\n",
       " 0.5285977859778598,\n",
       " 0.5290322580645161,\n",
       " 0.5294659300184162,\n",
       " 0.5298988040478381,\n",
       " 0.5279048490393413,\n",
       " 0.5273722627737226,\n",
       " 0.5273224043715847,\n",
       " 0.5277525022747953,\n",
       " 0.5277020890099909,\n",
       " 0.5271739130434783,\n",
       " 0.5276018099547511,\n",
       " 0.5280289330922242,\n",
       " 0.5279783393501805,\n",
       " 0.5284039675383229,\n",
       " 0.5288288288288289,\n",
       " 0.5292529252925292,\n",
       " 0.5292003593890386,\n",
       " 0.5286738351254481,\n",
       " 0.5290957923008057,\n",
       " 0.5290437890974083,\n",
       " 0.5275800711743772,\n",
       " 0.5270629991126885,\n",
       " 0.5274822695035462,\n",
       " 0.5279007971656333,\n",
       " 0.5278514588859416,\n",
       " 0.5282685512367491,\n",
       " 0.5286849073256841,\n",
       " 0.5291005291005291,\n",
       " 0.5295154185022026,\n",
       " 0.5299295774647887,\n",
       " 0.5303430079155673,\n",
       " 0.5302897278314311,\n",
       " 0.5293088363954506,\n",
       " 0.5283347863993025,\n",
       " 0.5287456445993032,\n",
       " 0.528695652173913,\n",
       " 0.529105125977411,\n",
       " 0.527681660899654,\n",
       " 0.5280898876404494,\n",
       " 0.5284974093264249,\n",
       " 0.5289042277825712,\n",
       " 0.5283993115318416,\n",
       " 0.5278969957081545,\n",
       " 0.5283018867924528,\n",
       " 0.5287060839760068,\n",
       " 0.5291095890410958,\n",
       " 0.5290598290598291,\n",
       " 0.5294619982920581,\n",
       " 0.5294117647058824,\n",
       " 0.5293617021276595,\n",
       " 0.5297619047619048,\n",
       " 0.5297113752122241,\n",
       " 0.5301102629346904,\n",
       " 0.5300592718035563,\n",
       " 0.5304568527918782,\n",
       " 0.5295109612141653,\n",
       " 0.5299073294018534,\n",
       " 0.5303030303030303,\n",
       " 0.5302521008403361,\n",
       " 0.5297569153394803,\n",
       " 0.5297071129707113,\n",
       " 0.5301003344481605,\n",
       " 0.5304928989139516,\n",
       " 0.5308848080133556,\n",
       " 0.5303913405495421,\n",
       " 0.5303408146300914,\n",
       " 0.5307308970099668,\n",
       " 0.5311203319502075,\n",
       " 0.5315091210613598,\n",
       " 0.5297029702970297,\n",
       " 0.5296540362438221,\n",
       " 0.5300411522633744,\n",
       " 0.5304276315789473,\n",
       " 0.5308134757600658,\n",
       " 0.5311986863711001,\n",
       " 0.5311475409836065,\n",
       " 0.5306623058053965,\n",
       " 0.5301794453507341,\n",
       " 0.530562347188264,\n",
       " 0.529650690495532,\n",
       " 0.5300324675324676,\n",
       " 0.5295546558704454,\n",
       " 0.5299352750809061,\n",
       " 0.5303152789005658,\n",
       " 0.5306946688206785,\n",
       " 0.5306451612903226,\n",
       " 0.5305958132045089,\n",
       " 0.5309734513274337,\n",
       " 0.5309236947791165,\n",
       " 0.5313001605136437,\n",
       " 0.5316760224538893,\n",
       " 0.532051282051282,\n",
       " 0.5315747402078337,\n",
       " 0.5319488817891374,\n",
       " 0.5302066772655007,\n",
       " 0.5297383029341792,\n",
       " 0.5301109350237718,\n",
       " 0.5304829770387965,\n",
       " 0.5308544303797469,\n",
       " 0.5303867403314917,\n",
       " 0.5299212598425197,\n",
       " 0.5302911093627065,\n",
       " 0.5306603773584906,\n",
       " 0.5310290652003142,\n",
       " 0.5309803921568628,\n",
       " 0.5309318715740016,\n",
       " 0.5312989045383412,\n",
       " 0.53125,\n",
       " 0.531201248049922,\n",
       " 0.5286821705426357,\n",
       " 0.5278207109737248,\n",
       " 0.5273708558211256,\n",
       " 0.5265180630284396,\n",
       " 0.5268817204301075,\n",
       " 0.526840490797546,\n",
       " 0.5263963274674828,\n",
       " 0.5263559969442322,\n",
       " 0.5263157894736842,\n",
       " 0.525875190258752,\n",
       " 0.5258358662613982,\n",
       " 0.5257966616084977,\n",
       " 0.5257575757575758,\n",
       " 0.5253212396069539,\n",
       " 0.525679758308157,\n",
       " 0.5252449133383572,\n",
       " 0.524812030075188,\n",
       " 0.5239880059970015,\n",
       " 0.5243445692883895,\n",
       " 0.5247005988023952,\n",
       " 0.5246636771300448,\n",
       " 0.5250186706497386,\n",
       " 0.5249813571961223,\n",
       " 0.5253353204172876,\n",
       " 0.524517087667162,\n",
       " 0.5248700816629547,\n",
       " 0.5252225519287834,\n",
       " 0.5255744996293551,\n",
       " 0.5259259259259259,\n",
       " 0.5262768319763138,\n",
       " 0.5250737463126843,\n",
       " 0.524264705882353,\n",
       " 0.5242290748898678,\n",
       " 0.5234260614934114,\n",
       " 0.5233918128654971,\n",
       " 0.5218340611353712,\n",
       " 0.5221818181818182,\n",
       " 0.5221496005809731,\n",
       " 0.5224963715529753,\n",
       " 0.5228426395939086,\n",
       " 0.5228095582910934,\n",
       " 0.5231548480463097,\n",
       " 0.5234996384671005,\n",
       " 0.5234657039711191,\n",
       " 0.5238095238095238,\n",
       " 0.5241528478731075,\n",
       " 0.5233644859813084,\n",
       " 0.5229555236728838,\n",
       " 0.5221745350500715,\n",
       " 0.5225160829163689,\n",
       " 0.5228571428571429,\n",
       " 0.5228245363766049,\n",
       " 0.5227920227920227,\n",
       " 0.5231316725978647,\n",
       " 0.5230987917555082,\n",
       " 0.5234375,\n",
       " 0.5237757274662882,\n",
       " 0.5237420269312544,\n",
       " 0.5237084217975938,\n",
       " 0.5240452616690241,\n",
       " 0.5243816254416961,\n",
       " 0.5247175141242938,\n",
       " 0.5243128964059197,\n",
       " 0.5239099859353024,\n",
       " 0.523876404494382,\n",
       " 0.5234758234057463,\n",
       " 0.522711390635919,\n",
       " 0.5230446927374302,\n",
       " 0.5230125523012552,\n",
       " 0.5229805013927576,\n",
       " 0.5225851285615011,\n",
       " 0.5218295218295218,\n",
       " 0.5221606648199446,\n",
       " 0.5217691776088459,\n",
       " 0.5213793103448275,\n",
       " 0.5209910529938059,\n",
       " 0.5191780821917809,\n",
       " 0.5191518467852257,\n",
       " 0.5191256830601093,\n",
       " 0.5190995907230559,\n",
       " 0.5187202178352621,\n",
       " 0.5190476190476191,\n",
       " 0.5193745751189667,\n",
       " 0.5193482688391039,\n",
       " 0.5186188219363574,\n",
       " 0.5189445196211097,\n",
       " 0.518918918918919,\n",
       " 0.5192437542201216,\n",
       " 0.5195681511470985,\n",
       " 0.5198921105866486,\n",
       " 0.5195154777927322,\n",
       " 0.519838601210491,\n",
       " 0.5198119543317663,\n",
       " 0.5201342281879194,\n",
       " 0.5204560697518444,\n",
       " 0.5204286671131949,\n",
       " 0.5207496653279786,\n",
       " 0.5210702341137123,\n",
       " 0.5193075898801598,\n",
       " 0.5196274118429807,\n",
       " 0.5189117451891174,\n",
       " 0.5171730515191546,\n",
       " 0.5174917491749175,\n",
       " 0.5178100263852242,\n",
       " 0.5181278839815425,\n",
       " 0.5184453227931489,\n",
       " 0.5184210526315789,\n",
       " 0.5163612565445026,\n",
       " 0.5166775670372793,\n",
       " 0.5166557805355977,\n",
       " 0.5166340508806262,\n",
       " 0.5166123778501629,\n",
       " 0.5169270833333334,\n",
       " 0.5172413793103449,\n",
       " 0.5168831168831168,\n",
       " 0.5171966255678131,\n",
       " 0.5175097276264592,\n",
       " 0.5178224238496435,\n",
       " 0.5181347150259067,\n",
       " 0.5174418604651163,\n",
       " 0.5174193548387097,\n",
       " 0.5177304964539007,\n",
       " 0.5180412371134021,\n",
       " 0.5180180180180181,\n",
       " 0.5183279742765273,\n",
       " 0.5186375321336761,\n",
       " 0.518946692357097,\n",
       " 0.5192554557124519,\n",
       " 0.5195638229634381,\n",
       " 0.5198717948717949,\n",
       " 0.5198463508322664,\n",
       " 0.5201535508637236,\n",
       " 0.520460358056266,\n",
       " 0.520434227330779,\n",
       " 0.5207402680280792,\n",
       " 0.5203821656050955,\n",
       " 0.5200254291163382,\n",
       " 0.5190114068441065,\n",
       " 0.51931602279924,\n",
       " 0.519620253164557,\n",
       " 0.5199240986717267,\n",
       " 0.5202275600505689,\n",
       " 0.5202020202020202,\n",
       " 0.5201765447667087,\n",
       " 0.520478890989288,\n",
       " 0.5207808564231738,\n",
       " 0.5210824417872876,\n",
       " 0.5213836477987421,\n",
       " 0.5210295040803515,\n",
       " 0.5213299874529486,\n",
       " 0.5216300940438872,\n",
       " 0.5219298245614035,\n",
       " 0.5215759849906192,\n",
       " 0.521875,\n",
       " 0.5215221459762944,\n",
       " 0.5214953271028038,\n",
       " 0.5217932752179327,\n",
       " 0.5217661691542289,\n",
       " 0.5220633934120572,\n",
       " 0.522360248447205,\n",
       " 0.5226567349472377,\n",
       " 0.5229528535980149,\n",
       " 0.523248605083695,\n",
       " 0.523543990086741,\n",
       " 0.5238390092879257,\n",
       " 0.5234857849196539,\n",
       " 0.5234567901234568,\n",
       " 0.5227832512315271,\n",
       " 0.5230769230769231,\n",
       " 0.5227272727272727,\n",
       " 0.522378908645003,\n",
       " 0.5223515003061849,\n",
       " 0.5223241590214067,\n",
       " 0.5226161369193154,\n",
       " 0.5229077580940745,\n",
       " 0.5219244823386114,\n",
       " 0.5206310679611651,\n",
       " 0.5206060606060606,\n",
       " 0.5202661826981246,\n",
       " 0.5205562273276905,\n",
       " 0.5208459214501511,\n",
       " 0.5211352657004831,\n",
       " 0.5204819277108433,\n",
       " 0.5207706201083685,\n",
       " 0.5207456404088996,\n",
       " 0.5207207207207207,\n",
       " 0.5210084033613446,\n",
       " 0.5206710605152786,\n",
       " 0.5209580838323353,\n",
       " 0.520933014354067,\n",
       " 0.5212193664076509,\n",
       " 0.5202622169249106,\n",
       " 0.5205479452054794,\n",
       " 0.5199049316696376,\n",
       " 0.5195729537366548,\n",
       " 0.5195497630331753,\n",
       " 0.5198342214328004,\n",
       " 0.5198107628622117,\n",
       " 0.5200945626477541,\n",
       " 0.51854031783402,\n",
       " 0.5188235294117647,\n",
       " 0.5191064079952968,\n",
       " 0.517867603983597,\n",
       " 0.5178466939730837,\n",
       " 0.517221249270286,\n",
       " 0.5175029171528588,\n",
       " 0.5174825174825175,\n",
       " 0.5174621653084982,\n",
       " 0.5165409170052234,\n",
       " 0.5168213457076566,\n",
       " 0.5171014492753623,\n",
       " 0.5161849710982659,\n",
       " 0.5164644714038128,\n",
       " 0.516743648960739,\n",
       " 0.5170225043277553,\n",
       " 0.5167050691244239,\n",
       " 0.5169833045480714,\n",
       " 0.516073478760046,\n",
       " 0.5154639175257731,\n",
       " 0.5157412707498569,\n",
       " 0.5160183066361556,\n",
       " 0.516295025728988,\n",
       " 0.5159817351598174,\n",
       " 0.5162578436965203,\n",
       " 0.5165336374002281,\n",
       " 0.514755959137344,\n",
       " 0.5150311968235961,\n",
       " 0.515014164305949,\n",
       " 0.5152887882219706,\n",
       " 0.5155631013016412,\n",
       " 0.5158371040723982,\n",
       " 0.5161107970604861,\n",
       " 0.5163841807909605,\n",
       " 0.5163656884875847,\n",
       " 0.5166384658770445,\n",
       " 0.515748031496063,\n",
       " 0.5154407636159462,\n",
       " 0.5154234436343241,\n",
       " 0.5154061624649859,\n",
       " 0.5153889199776162,\n",
       " 0.5153717160424819,\n",
       " 0.5153545505304299,\n",
       " 0.5153374233128835,\n",
       " 0.5153203342618384,\n",
       " 0.5150166852057843,\n",
       " 0.5152862701500833,\n",
       " 0.5149833518312985,\n",
       " 0.5152523571824736,\n",
       " 0.5155210643015521,\n",
       " 0.5157894736842106,\n",
       " 0.5160575858250277,\n",
       " 0.5157545605306799,\n",
       " 0.5146005509641873,\n",
       " 0.5145844799119428,\n",
       " 0.5145684442001099,\n",
       " 0.5142700329308453,\n",
       " 0.5142543859649122,\n",
       " 0.5136761487964989,\n",
       " 0.5139420448332422,\n",
       " 0.514207650273224,\n",
       " 0.5136314067611778,\n",
       " 0.5138964577656676,\n",
       " 0.514161220043573,\n",
       " 0.5144256940664126,\n",
       " 0.5141304347826087,\n",
       " 0.5143943508962521,\n",
       " 0.5146579804560261,\n",
       " 0.5149213239283776,\n",
       " 0.514626218851571,\n",
       " 0.5134989200863931,\n",
       " 0.5137614678899083,\n",
       " 0.5137466307277628,\n",
       " 0.5137318255250404,\n",
       " 0.5139935414424112,\n",
       " 0.5142549757934374,\n",
       " 0.5145161290322581,\n",
       " 0.5147770016120365,\n",
       " 0.5144849785407726,\n",
       " 0.514745308310992,\n",
       " 0.514729512587038,\n",
       " 0.5136145221569675,\n",
       " 0.5133262260127932,\n",
       " 0.5135855087906234,\n",
       " 0.5132978723404256,\n",
       " 0.5135566188197768,\n",
       " 0.5138150903294367,\n",
       " 0.514073287307488,\n",
       " 0.5137857900318133,\n",
       " 0.513499205929063,\n",
       " 0.5132135306553911,\n",
       " 0.5134706814580031,\n",
       " 0.5134564643799472,\n",
       " 0.5129015271195366,\n",
       " 0.512348922753547,\n",
       " 0.5115303983228512,\n",
       " 0.5115183246073298,\n",
       " 0.5112388917929953,\n",
       " 0.5112271540469974,\n",
       " 0.5112154407929056,\n",
       " 0.5112037519541428,\n",
       " 0.5111920874544508,\n",
       " 0.5114464099895941,\n",
       " 0.5117004680187207,\n",
       " 0.5116883116883116,\n",
       " 0.5114107883817427,\n",
       " 0.5108695652173914,\n",
       " 0.510594315245478,\n",
       " 0.5108471074380165,\n",
       " 0.5108359133126935,\n",
       " 0.5110881897885508,\n",
       " 0.5105506948018528,\n",
       " 0.5102774922918808,\n",
       " 0.5100051308363264,\n",
       " 0.5102564102564102,\n",
       " 0.5102459016393442,\n",
       " 0.5102354145342887,\n",
       " 0.5102249488752556,\n",
       " 0.5104752171691365,\n",
       " 0.5107252298263534,\n",
       " ...]"
      ]
     },
     "execution_count": 51,
     "metadata": {},
     "output_type": "execute_result"
    }
   ],
   "source": [
    "p_coin"
   ]
  },
  {
   "cell_type": "code",
   "execution_count": 52,
   "metadata": {
    "scrolled": true
   },
   "outputs": [
    {
     "data": {
      "text/plain": [
       "(4972,)"
      ]
     },
     "execution_count": 52,
     "metadata": {},
     "output_type": "execute_result"
    }
   ],
   "source": [
    "sr=pd.Series(p_coin)\n",
    "sr.shape"
   ]
  },
  {
   "cell_type": "code",
   "execution_count": 53,
   "metadata": {
    "scrolled": true
   },
   "outputs": [
    {
     "data": {
      "text/plain": [
       "0       0.500000\n",
       "1       0.250000\n",
       "2       0.333333\n",
       "3       0.363636\n",
       "4       0.416667\n",
       "          ...   \n",
       "4967    0.497049\n",
       "4968    0.497099\n",
       "4969    0.497149\n",
       "4970    0.497150\n",
       "4971    0.497200\n",
       "Length: 4972, dtype: float64"
      ]
     },
     "execution_count": 53,
     "metadata": {},
     "output_type": "execute_result"
    }
   ],
   "source": [
    "sr"
   ]
  },
  {
   "cell_type": "code",
   "execution_count": 54,
   "metadata": {
    "scrolled": true
   },
   "outputs": [
    {
     "data": {
      "image/png": "[encoded data removed]",
      "text/plain": [
       "<Figure size 432x288 with 1 Axes>"
      ]
     },
     "metadata": {
      "needs_background": "light"
     },
     "output_type": "display_data"
    }
   ],
   "source": [
    "sr.plot()\n",
    "\n",
    "plt.show()"
   ]
  },
  {
   "cell_type": "code",
   "execution_count": 55,
   "metadata": {},
   "outputs": [
    {
     "data": {
      "image/png": "[encoded data removed]",
      "text/plain": [
       "<Figure size 432x288 with 1 Axes>"
      ]
     },
     "metadata": {
      "needs_background": "light"
     },
     "output_type": "display_data"
    }
   ],
   "source": [
    "sr.plot()\n",
    "plt.axhline(.5)\n",
    "plt.show()"
   ]
  },
  {
   "cell_type": "markdown",
   "metadata": {},
   "source": [
    "**this is mobile app analysis of lottery.\n",
    "in which people involve then the play and then they addict of it and lost all money.\n",
    "this is for medical institute so that they can study. they can tell the people how ddefficult it is to earn the laotery**\n",
    "\n",
    "* proablity is calcualte on rondom experiment\n",
    "* outcome which i did not know i call them rondom experiment\n",
    "* total outcomes is call possible outcome\n",
    "* envent is caculate on event not outcomes\n",
    "* this is fun . habbit and then addiction base game in canada \n",
    "* addition change our behaviour, \n",
    "* experiment which are uncertain are called rondom experiment\n",
    "* 649 mean select 6 dif nubers 1 to 49\n",
    "* order does not matter and we use combination and this data is about with out replacement \n",
    "* aim of this project is to understand the wining chance of 649 game"
   ]
  },
  {
   "cell_type": "code",
   "execution_count": 56,
   "metadata": {},
   "outputs": [
    {
     "data": {
      "text/html": [
       "<div>\n",
       "<style scoped>\n",
       "    .dataframe tbody tr th:only-of-type {\n",
       "        vertical-align: middle;\n",
       "    }\n",
       "\n",
       "    .dataframe tbody tr th {\n",
       "        vertical-align: top;\n",
       "    }\n",
       "\n",
       "    .dataframe thead th {\n",
       "        text-align: right;\n",
       "    }\n",
       "</style>\n",
       "<table border=\"1\" class=\"dataframe\">\n",
       "  <thead>\n",
       "    <tr style=\"text-align: right;\">\n",
       "      <th></th>\n",
       "      <th>PRODUCT</th>\n",
       "      <th>DRAW NUMBER</th>\n",
       "      <th>SEQUENCE NUMBER</th>\n",
       "      <th>DRAW DATE</th>\n",
       "      <th>NUMBER DRAWN 1</th>\n",
       "      <th>NUMBER DRAWN 2</th>\n",
       "      <th>NUMBER DRAWN 3</th>\n",
       "      <th>NUMBER DRAWN 4</th>\n",
       "      <th>NUMBER DRAWN 5</th>\n",
       "      <th>NUMBER DRAWN 6</th>\n",
       "      <th>BONUS NUMBER</th>\n",
       "    </tr>\n",
       "  </thead>\n",
       "  <tbody>\n",
       "    <tr>\n",
       "      <th>0</th>\n",
       "      <td>649</td>\n",
       "      <td>1</td>\n",
       "      <td>0</td>\n",
       "      <td>6/12/1982</td>\n",
       "      <td>3</td>\n",
       "      <td>11</td>\n",
       "      <td>12</td>\n",
       "      <td>14</td>\n",
       "      <td>41</td>\n",
       "      <td>43</td>\n",
       "      <td>13</td>\n",
       "    </tr>\n",
       "    <tr>\n",
       "      <th>1</th>\n",
       "      <td>649</td>\n",
       "      <td>2</td>\n",
       "      <td>0</td>\n",
       "      <td>6/19/1982</td>\n",
       "      <td>8</td>\n",
       "      <td>33</td>\n",
       "      <td>36</td>\n",
       "      <td>37</td>\n",
       "      <td>39</td>\n",
       "      <td>41</td>\n",
       "      <td>9</td>\n",
       "    </tr>\n",
       "    <tr>\n",
       "      <th>2</th>\n",
       "      <td>649</td>\n",
       "      <td>3</td>\n",
       "      <td>0</td>\n",
       "      <td>6/26/1982</td>\n",
       "      <td>1</td>\n",
       "      <td>6</td>\n",
       "      <td>23</td>\n",
       "      <td>24</td>\n",
       "      <td>27</td>\n",
       "      <td>39</td>\n",
       "      <td>34</td>\n",
       "    </tr>\n",
       "    <tr>\n",
       "      <th>3</th>\n",
       "      <td>649</td>\n",
       "      <td>4</td>\n",
       "      <td>0</td>\n",
       "      <td>7/3/1982</td>\n",
       "      <td>3</td>\n",
       "      <td>9</td>\n",
       "      <td>10</td>\n",
       "      <td>13</td>\n",
       "      <td>20</td>\n",
       "      <td>43</td>\n",
       "      <td>34</td>\n",
       "    </tr>\n",
       "    <tr>\n",
       "      <th>4</th>\n",
       "      <td>649</td>\n",
       "      <td>5</td>\n",
       "      <td>0</td>\n",
       "      <td>7/10/1982</td>\n",
       "      <td>5</td>\n",
       "      <td>14</td>\n",
       "      <td>21</td>\n",
       "      <td>31</td>\n",
       "      <td>34</td>\n",
       "      <td>47</td>\n",
       "      <td>45</td>\n",
       "    </tr>\n",
       "  </tbody>\n",
       "</table>\n",
       "</div>"
      ],
      "text/plain": [
       "   PRODUCT  DRAW NUMBER  SEQUENCE NUMBER  DRAW DATE  NUMBER DRAWN 1  \\\n",
       "0      649            1                0  6/12/1982               3   \n",
       "1      649            2                0  6/19/1982               8   \n",
       "2      649            3                0  6/26/1982               1   \n",
       "3      649            4                0   7/3/1982               3   \n",
       "4      649            5                0  7/10/1982               5   \n",
       "\n",
       "   NUMBER DRAWN 2  NUMBER DRAWN 3  NUMBER DRAWN 4  NUMBER DRAWN 5  \\\n",
       "0              11              12              14              41   \n",
       "1              33              36              37              39   \n",
       "2               6              23              24              27   \n",
       "3               9              10              13              20   \n",
       "4              14              21              31              34   \n",
       "\n",
       "   NUMBER DRAWN 6  BONUS NUMBER  \n",
       "0              43            13  \n",
       "1              41             9  \n",
       "2              39            34  \n",
       "3              43            34  \n",
       "4              47            45  "
      ]
     },
     "execution_count": 56,
     "metadata": {},
     "output_type": "execute_result"
    }
   ],
   "source": [
    "lottery=pd.read_csv(\"649.csv\")\n",
    "lottery.head() "
   ]
  },
  {
   "cell_type": "code",
   "execution_count": 57,
   "metadata": {},
   "outputs": [
    {
     "name": "stdout",
     "output_type": "stream",
     "text": [
      "<class 'pandas.core.frame.DataFrame'>\n",
      "RangeIndex: 3665 entries, 0 to 3664\n",
      "Data columns (total 11 columns):\n",
      " #   Column           Non-Null Count  Dtype \n",
      "---  ------           --------------  ----- \n",
      " 0   PRODUCT          3665 non-null   int64 \n",
      " 1   DRAW NUMBER      3665 non-null   int64 \n",
      " 2   SEQUENCE NUMBER  3665 non-null   int64 \n",
      " 3   DRAW DATE        3665 non-null   object\n",
      " 4   NUMBER DRAWN 1   3665 non-null   int64 \n",
      " 5   NUMBER DRAWN 2   3665 non-null   int64 \n",
      " 6   NUMBER DRAWN 3   3665 non-null   int64 \n",
      " 7   NUMBER DRAWN 4   3665 non-null   int64 \n",
      " 8   NUMBER DRAWN 5   3665 non-null   int64 \n",
      " 9   NUMBER DRAWN 6   3665 non-null   int64 \n",
      " 10  BONUS NUMBER     3665 non-null   int64 \n",
      "dtypes: int64(10), object(1)\n",
      "memory usage: 315.1+ KB\n"
     ]
    }
   ],
   "source": [
    "lottery.info()"
   ]
  },
  {
   "cell_type": "code",
   "execution_count": 58,
   "metadata": {},
   "outputs": [
    {
     "data": {
      "text/html": [
       "<div>\n",
       "<style scoped>\n",
       "    .dataframe tbody tr th:only-of-type {\n",
       "        vertical-align: middle;\n",
       "    }\n",
       "\n",
       "    .dataframe tbody tr th {\n",
       "        vertical-align: top;\n",
       "    }\n",
       "\n",
       "    .dataframe thead th {\n",
       "        text-align: right;\n",
       "    }\n",
       "</style>\n",
       "<table border=\"1\" class=\"dataframe\">\n",
       "  <thead>\n",
       "    <tr style=\"text-align: right;\">\n",
       "      <th></th>\n",
       "      <th>PRODUCT</th>\n",
       "      <th>DRAW NUMBER</th>\n",
       "      <th>SEQUENCE NUMBER</th>\n",
       "      <th>NUMBER DRAWN 1</th>\n",
       "      <th>NUMBER DRAWN 2</th>\n",
       "      <th>NUMBER DRAWN 3</th>\n",
       "      <th>NUMBER DRAWN 4</th>\n",
       "      <th>NUMBER DRAWN 5</th>\n",
       "      <th>NUMBER DRAWN 6</th>\n",
       "      <th>BONUS NUMBER</th>\n",
       "    </tr>\n",
       "  </thead>\n",
       "  <tbody>\n",
       "    <tr>\n",
       "      <th>count</th>\n",
       "      <td>3665.0</td>\n",
       "      <td>3665.000000</td>\n",
       "      <td>3665.000000</td>\n",
       "      <td>3665.000000</td>\n",
       "      <td>3665.000000</td>\n",
       "      <td>3665.000000</td>\n",
       "      <td>3665.000000</td>\n",
       "      <td>3665.000000</td>\n",
       "      <td>3665.000000</td>\n",
       "      <td>3665.000000</td>\n",
       "    </tr>\n",
       "    <tr>\n",
       "      <th>mean</th>\n",
       "      <td>649.0</td>\n",
       "      <td>1819.494952</td>\n",
       "      <td>0.030832</td>\n",
       "      <td>7.327694</td>\n",
       "      <td>14.568076</td>\n",
       "      <td>21.890859</td>\n",
       "      <td>28.978445</td>\n",
       "      <td>36.162619</td>\n",
       "      <td>43.099045</td>\n",
       "      <td>24.599454</td>\n",
       "    </tr>\n",
       "    <tr>\n",
       "      <th>std</th>\n",
       "      <td>0.0</td>\n",
       "      <td>1039.239544</td>\n",
       "      <td>0.237984</td>\n",
       "      <td>5.811669</td>\n",
       "      <td>7.556939</td>\n",
       "      <td>8.170073</td>\n",
       "      <td>8.069724</td>\n",
       "      <td>7.190960</td>\n",
       "      <td>5.506424</td>\n",
       "      <td>14.360038</td>\n",
       "    </tr>\n",
       "    <tr>\n",
       "      <th>min</th>\n",
       "      <td>649.0</td>\n",
       "      <td>1.000000</td>\n",
       "      <td>0.000000</td>\n",
       "      <td>1.000000</td>\n",
       "      <td>2.000000</td>\n",
       "      <td>3.000000</td>\n",
       "      <td>4.000000</td>\n",
       "      <td>11.000000</td>\n",
       "      <td>13.000000</td>\n",
       "      <td>0.000000</td>\n",
       "    </tr>\n",
       "    <tr>\n",
       "      <th>25%</th>\n",
       "      <td>649.0</td>\n",
       "      <td>917.000000</td>\n",
       "      <td>0.000000</td>\n",
       "      <td>3.000000</td>\n",
       "      <td>9.000000</td>\n",
       "      <td>16.000000</td>\n",
       "      <td>23.000000</td>\n",
       "      <td>31.000000</td>\n",
       "      <td>40.000000</td>\n",
       "      <td>12.000000</td>\n",
       "    </tr>\n",
       "    <tr>\n",
       "      <th>50%</th>\n",
       "      <td>649.0</td>\n",
       "      <td>1833.000000</td>\n",
       "      <td>0.000000</td>\n",
       "      <td>6.000000</td>\n",
       "      <td>14.000000</td>\n",
       "      <td>22.000000</td>\n",
       "      <td>30.000000</td>\n",
       "      <td>37.000000</td>\n",
       "      <td>45.000000</td>\n",
       "      <td>25.000000</td>\n",
       "    </tr>\n",
       "    <tr>\n",
       "      <th>75%</th>\n",
       "      <td>649.0</td>\n",
       "      <td>2749.000000</td>\n",
       "      <td>0.000000</td>\n",
       "      <td>10.000000</td>\n",
       "      <td>20.000000</td>\n",
       "      <td>28.000000</td>\n",
       "      <td>35.000000</td>\n",
       "      <td>42.000000</td>\n",
       "      <td>47.000000</td>\n",
       "      <td>37.000000</td>\n",
       "    </tr>\n",
       "    <tr>\n",
       "      <th>max</th>\n",
       "      <td>649.0</td>\n",
       "      <td>3591.000000</td>\n",
       "      <td>3.000000</td>\n",
       "      <td>38.000000</td>\n",
       "      <td>43.000000</td>\n",
       "      <td>45.000000</td>\n",
       "      <td>47.000000</td>\n",
       "      <td>48.000000</td>\n",
       "      <td>49.000000</td>\n",
       "      <td>49.000000</td>\n",
       "    </tr>\n",
       "  </tbody>\n",
       "</table>\n",
       "</div>"
      ],
      "text/plain": [
       "       PRODUCT  DRAW NUMBER  SEQUENCE NUMBER  NUMBER DRAWN 1  NUMBER DRAWN 2  \\\n",
       "count   3665.0  3665.000000      3665.000000     3665.000000     3665.000000   \n",
       "mean     649.0  1819.494952         0.030832        7.327694       14.568076   \n",
       "std        0.0  1039.239544         0.237984        5.811669        7.556939   \n",
       "min      649.0     1.000000         0.000000        1.000000        2.000000   \n",
       "25%      649.0   917.000000         0.000000        3.000000        9.000000   \n",
       "50%      649.0  1833.000000         0.000000        6.000000       14.000000   \n",
       "75%      649.0  2749.000000         0.000000       10.000000       20.000000   \n",
       "max      649.0  3591.000000         3.000000       38.000000       43.000000   \n",
       "\n",
       "       NUMBER DRAWN 3  NUMBER DRAWN 4  NUMBER DRAWN 5  NUMBER DRAWN 6  \\\n",
       "count     3665.000000     3665.000000     3665.000000     3665.000000   \n",
       "mean        21.890859       28.978445       36.162619       43.099045   \n",
       "std          8.170073        8.069724        7.190960        5.506424   \n",
       "min          3.000000        4.000000       11.000000       13.000000   \n",
       "25%         16.000000       23.000000       31.000000       40.000000   \n",
       "50%         22.000000       30.000000       37.000000       45.000000   \n",
       "75%         28.000000       35.000000       42.000000       47.000000   \n",
       "max         45.000000       47.000000       48.000000       49.000000   \n",
       "\n",
       "       BONUS NUMBER  \n",
       "count   3665.000000  \n",
       "mean      24.599454  \n",
       "std       14.360038  \n",
       "min        0.000000  \n",
       "25%       12.000000  \n",
       "50%       25.000000  \n",
       "75%       37.000000  \n",
       "max       49.000000  "
      ]
     },
     "execution_count": 58,
     "metadata": {},
     "output_type": "execute_result"
    }
   ],
   "source": [
    "lottery.describe()"
   ]
  },
  {
   "cell_type": "code",
   "execution_count": 59,
   "metadata": {},
   "outputs": [
    {
     "data": {
      "text/plain": [
       "Index(['PRODUCT', 'DRAW NUMBER', 'SEQUENCE NUMBER', 'DRAW DATE',\n",
       "       'NUMBER DRAWN 1', 'NUMBER DRAWN 2', 'NUMBER DRAWN 3', 'NUMBER DRAWN 4',\n",
       "       'NUMBER DRAWN 5', 'NUMBER DRAWN 6', 'BONUS NUMBER'],\n",
       "      dtype='object')"
      ]
     },
     "execution_count": 59,
     "metadata": {},
     "output_type": "execute_result"
    }
   ],
   "source": [
    "lottery.columns"
   ]
  },
  {
   "cell_type": "code",
   "execution_count": 60,
   "metadata": {},
   "outputs": [
    {
     "data": {
      "text/plain": [
       "11"
      ]
     },
     "execution_count": 60,
     "metadata": {},
     "output_type": "execute_result"
    }
   ],
   "source": [
    "len(lottery.columns)"
   ]
  },
  {
   "cell_type": "markdown",
   "metadata": {},
   "source": [
    "# we give the list of 6 unique no. and app will tell us how many chance of wining the game"
   ]
  },
  {
   "cell_type": "code",
   "execution_count": 61,
   "metadata": {
    "scrolled": true
   },
   "outputs": [
    {
     "ename": "TypeError",
     "evalue": "bad operand type for unary -: 'set'",
     "output_type": "error",
     "traceback": [
      "\u001b[1;31m---------------------------------------------------------------------------\u001b[0m",
      "\u001b[1;31mTypeError\u001b[0m                                 Traceback (most recent call last)",
      "\u001b[1;32m<ipython-input-61-2fe42510abaa>\u001b[0m in \u001b[0;36m<module>\u001b[1;34m\u001b[0m\n\u001b[1;32m----> 1\u001b[1;33m \u001b[1;33m{\u001b[0m\u001b[1;36m1\u001b[0m\u001b[1;33m,\u001b[0m\u001b[1;36m2\u001b[0m\u001b[1;33m,\u001b[0m\u001b[1;36m3\u001b[0m\u001b[1;33m,\u001b[0m\u001b[1;36m4\u001b[0m\u001b[1;33m,\u001b[0m\u001b[1;36m5\u001b[0m\u001b[1;33m,\u001b[0m\u001b[1;36m6\u001b[0m\u001b[1;33m}\u001b[0m\u001b[1;33m,\u001b[0m\u001b[1;33m{\u001b[0m\u001b[1;36m1\u001b[0m\u001b[1;33m,\u001b[0m\u001b[1;36m2\u001b[0m\u001b[1;33m,\u001b[0m\u001b[1;36m3\u001b[0m\u001b[1;33m,\u001b[0m\u001b[1;36m4\u001b[0m\u001b[1;33m,\u001b[0m\u001b[1;36m5\u001b[0m\u001b[1;33m,\u001b[0m\u001b[1;36m7\u001b[0m\u001b[1;33m}\u001b[0m\u001b[1;33m,\u001b[0m \u001b[1;33m{\u001b[0m\u001b[1;36m1\u001b[0m\u001b[1;33m,\u001b[0m\u001b[1;36m2\u001b[0m\u001b[1;33m,\u001b[0m\u001b[1;36m3\u001b[0m\u001b[1;33m,\u001b[0m\u001b[1;36m4\u001b[0m\u001b[1;33m,\u001b[0m\u001b[1;36m5\u001b[0m\u001b[1;33m,\u001b[0m\u001b[1;36m8\u001b[0m\u001b[1;33m}\u001b[0m\u001b[1;33m,\u001b[0m\u001b[1;33m{\u001b[0m\u001b[1;36m1\u001b[0m\u001b[1;33m,\u001b[0m\u001b[1;36m2\u001b[0m\u001b[1;33m,\u001b[0m\u001b[1;36m3\u001b[0m\u001b[1;33m,\u001b[0m\u001b[1;36m4\u001b[0m\u001b[1;33m,\u001b[0m\u001b[1;36m5\u001b[0m\u001b[1;33m,\u001b[0m\u001b[1;36m9\u001b[0m\u001b[1;33m}\u001b[0m \u001b[1;33m-\u001b[0m\u001b[1;33m-\u001b[0m\u001b[1;33m-\u001b[0m\u001b[1;33m-\u001b[0m \u001b[1;33m{\u001b[0m\u001b[1;36m1\u001b[0m\u001b[1;33m,\u001b[0m\u001b[1;36m2\u001b[0m\u001b[1;33m,\u001b[0m\u001b[1;36m3\u001b[0m\u001b[1;33m,\u001b[0m\u001b[1;36m4\u001b[0m\u001b[1;33m,\u001b[0m\u001b[1;36m5\u001b[0m\u001b[1;33m,\u001b[0m\u001b[1;36m49\u001b[0m\u001b[1;33m}\u001b[0m\u001b[1;33m,\u001b[0m \u001b[1;33m{\u001b[0m\u001b[1;36m1\u001b[0m\u001b[1;33m,\u001b[0m\u001b[1;36m2\u001b[0m\u001b[1;33m,\u001b[0m\u001b[1;36m3\u001b[0m\u001b[1;33m,\u001b[0m\u001b[1;36m4\u001b[0m\u001b[1;33m,\u001b[0m\u001b[1;36m7\u001b[0m\u001b[1;33m,\u001b[0m\u001b[1;36m6\u001b[0m\u001b[1;33m}\u001b[0m\u001b[1;33m\u001b[0m\u001b[1;33m\u001b[0m\u001b[0m\n\u001b[0m\u001b[0;32m      2\u001b[0m \u001b[1;31m#example\u001b[0m\u001b[1;33m\u001b[0m\u001b[1;33m\u001b[0m\u001b[1;33m\u001b[0m\u001b[0m\n",
      "\u001b[1;31mTypeError\u001b[0m: bad operand type for unary -: 'set'"
     ]
    }
   ],
   "source": [
    "{1,2,3,4,5,6},{1,2,3,4,5,7}, {1,2,3,4,5,8},{1,2,3,4,5,9} ---- {1,2,3,4,5,49}, {1,2,3,4,7,6}\n",
    "#example"
   ]
  },
  {
   "cell_type": "code",
   "execution_count": 62,
   "metadata": {},
   "outputs": [
    {
     "data": {
      "text/plain": [
       "13983816.0"
      ]
     },
     "execution_count": 62,
     "metadata": {},
     "output_type": "execute_result"
    }
   ],
   "source": [
    "comb(49,6)\n",
    "#mean we give 6 number out of 49 and our combination number will be this "
   ]
  },
  {
   "cell_type": "code",
   "execution_count": 64,
   "metadata": {},
   "outputs": [
    {
     "data": {
      "text/plain": [
       "7.151123842018516e-08"
      ]
     },
     "execution_count": 64,
     "metadata": {},
     "output_type": "execute_result"
    }
   ],
   "source": [
    "1/comb(49,6)\n",
    "#check fraction "
   ]
  },
  {
   "cell_type": "code",
   "execution_count": 70,
   "metadata": {},
   "outputs": [],
   "source": [
    "def one_ticket(lst_6):\n",
    "    num_succ = 1  #buy 1 ticket only\n",
    "    total_outcomes = comb(49,6)\n",
    "    prob = num_succ*100/total_outcomes\n",
    "    print(f\"\"\"Your chance to win the big prize \n",
    "    with the numbers {lst_6} are {prob:.7f}%.\n",
    "    In other words, you have a 1 in {total_outcomes:,} chances to win\"\"\")\n",
    "    "
   ]
  },
  {
   "cell_type": "code",
   "execution_count": 71,
   "metadata": {},
   "outputs": [
    {
     "name": "stdout",
     "output_type": "stream",
     "text": [
      "Your chance to win the big prize \n",
      "    with the numbers [2, 4, 6, 22, 6, 3] are 0.0000072%.\n",
      "    In other words, you have a 1 in 13,983,816.0 chances to win\n"
     ]
    }
   ],
   "source": [
    "one_ticket([2,4,6,22,6,3])"
   ]
  },
  {
   "cell_type": "code",
   "execution_count": 72,
   "metadata": {},
   "outputs": [
    {
     "name": "stdout",
     "output_type": "stream",
     "text": [
      "Your chance to win the big prize \n",
      "    with the numbers [0, 10, 20, 30, 40, 49] are 0.0000072%.\n",
      "    In other words, you have a 1 in 13,983,816.0 chances to win\n"
     ]
    }
   ],
   "source": [
    "one_ticket([0,10,20,30,40,49])"
   ]
  },
  {
   "cell_type": "markdown",
   "metadata": {},
   "source": [
    "# now ck that is any one win in his life"
   ]
  },
  {
   "cell_type": "code",
   "execution_count": 73,
   "metadata": {},
   "outputs": [
    {
     "data": {
      "text/html": [
       "<div>\n",
       "<style scoped>\n",
       "    .dataframe tbody tr th:only-of-type {\n",
       "        vertical-align: middle;\n",
       "    }\n",
       "\n",
       "    .dataframe tbody tr th {\n",
       "        vertical-align: top;\n",
       "    }\n",
       "\n",
       "    .dataframe thead th {\n",
       "        text-align: right;\n",
       "    }\n",
       "</style>\n",
       "<table border=\"1\" class=\"dataframe\">\n",
       "  <thead>\n",
       "    <tr style=\"text-align: right;\">\n",
       "      <th></th>\n",
       "      <th>PRODUCT</th>\n",
       "      <th>DRAW NUMBER</th>\n",
       "      <th>SEQUENCE NUMBER</th>\n",
       "      <th>DRAW DATE</th>\n",
       "      <th>NUMBER DRAWN 1</th>\n",
       "      <th>NUMBER DRAWN 2</th>\n",
       "      <th>NUMBER DRAWN 3</th>\n",
       "      <th>NUMBER DRAWN 4</th>\n",
       "      <th>NUMBER DRAWN 5</th>\n",
       "      <th>NUMBER DRAWN 6</th>\n",
       "      <th>BONUS NUMBER</th>\n",
       "    </tr>\n",
       "  </thead>\n",
       "  <tbody>\n",
       "    <tr>\n",
       "      <th>0</th>\n",
       "      <td>649</td>\n",
       "      <td>1</td>\n",
       "      <td>0</td>\n",
       "      <td>6/12/1982</td>\n",
       "      <td>3</td>\n",
       "      <td>11</td>\n",
       "      <td>12</td>\n",
       "      <td>14</td>\n",
       "      <td>41</td>\n",
       "      <td>43</td>\n",
       "      <td>13</td>\n",
       "    </tr>\n",
       "    <tr>\n",
       "      <th>1</th>\n",
       "      <td>649</td>\n",
       "      <td>2</td>\n",
       "      <td>0</td>\n",
       "      <td>6/19/1982</td>\n",
       "      <td>8</td>\n",
       "      <td>33</td>\n",
       "      <td>36</td>\n",
       "      <td>37</td>\n",
       "      <td>39</td>\n",
       "      <td>41</td>\n",
       "      <td>9</td>\n",
       "    </tr>\n",
       "    <tr>\n",
       "      <th>2</th>\n",
       "      <td>649</td>\n",
       "      <td>3</td>\n",
       "      <td>0</td>\n",
       "      <td>6/26/1982</td>\n",
       "      <td>1</td>\n",
       "      <td>6</td>\n",
       "      <td>23</td>\n",
       "      <td>24</td>\n",
       "      <td>27</td>\n",
       "      <td>39</td>\n",
       "      <td>34</td>\n",
       "    </tr>\n",
       "    <tr>\n",
       "      <th>3</th>\n",
       "      <td>649</td>\n",
       "      <td>4</td>\n",
       "      <td>0</td>\n",
       "      <td>7/3/1982</td>\n",
       "      <td>3</td>\n",
       "      <td>9</td>\n",
       "      <td>10</td>\n",
       "      <td>13</td>\n",
       "      <td>20</td>\n",
       "      <td>43</td>\n",
       "      <td>34</td>\n",
       "    </tr>\n",
       "    <tr>\n",
       "      <th>4</th>\n",
       "      <td>649</td>\n",
       "      <td>5</td>\n",
       "      <td>0</td>\n",
       "      <td>7/10/1982</td>\n",
       "      <td>5</td>\n",
       "      <td>14</td>\n",
       "      <td>21</td>\n",
       "      <td>31</td>\n",
       "      <td>34</td>\n",
       "      <td>47</td>\n",
       "      <td>45</td>\n",
       "    </tr>\n",
       "  </tbody>\n",
       "</table>\n",
       "</div>"
      ],
      "text/plain": [
       "   PRODUCT  DRAW NUMBER  SEQUENCE NUMBER  DRAW DATE  NUMBER DRAWN 1  \\\n",
       "0      649            1                0  6/12/1982               3   \n",
       "1      649            2                0  6/19/1982               8   \n",
       "2      649            3                0  6/26/1982               1   \n",
       "3      649            4                0   7/3/1982               3   \n",
       "4      649            5                0  7/10/1982               5   \n",
       "\n",
       "   NUMBER DRAWN 2  NUMBER DRAWN 3  NUMBER DRAWN 4  NUMBER DRAWN 5  \\\n",
       "0              11              12              14              41   \n",
       "1              33              36              37              39   \n",
       "2               6              23              24              27   \n",
       "3               9              10              13              20   \n",
       "4              14              21              31              34   \n",
       "\n",
       "   NUMBER DRAWN 6  BONUS NUMBER  \n",
       "0              43            13  \n",
       "1              41             9  \n",
       "2              39            34  \n",
       "3              43            34  \n",
       "4              47            45  "
      ]
     },
     "execution_count": 73,
     "metadata": {},
     "output_type": "execute_result"
    }
   ],
   "source": [
    "lottery.head()"
   ]
  },
  {
   "cell_type": "code",
   "execution_count": 74,
   "metadata": {},
   "outputs": [
    {
     "data": {
      "text/html": [
       "<div>\n",
       "<style scoped>\n",
       "    .dataframe tbody tr th:only-of-type {\n",
       "        vertical-align: middle;\n",
       "    }\n",
       "\n",
       "    .dataframe tbody tr th {\n",
       "        vertical-align: top;\n",
       "    }\n",
       "\n",
       "    .dataframe thead th {\n",
       "        text-align: right;\n",
       "    }\n",
       "</style>\n",
       "<table border=\"1\" class=\"dataframe\">\n",
       "  <thead>\n",
       "    <tr style=\"text-align: right;\">\n",
       "      <th></th>\n",
       "      <th>PRODUCT</th>\n",
       "      <th>DRAW NUMBER</th>\n",
       "      <th>SEQUENCE NUMBER</th>\n",
       "      <th>DRAW DATE</th>\n",
       "      <th>NUMBER DRAWN 1</th>\n",
       "      <th>NUMBER DRAWN 2</th>\n",
       "      <th>NUMBER DRAWN 3</th>\n",
       "      <th>NUMBER DRAWN 4</th>\n",
       "      <th>NUMBER DRAWN 5</th>\n",
       "      <th>NUMBER DRAWN 6</th>\n",
       "      <th>BONUS NUMBER</th>\n",
       "    </tr>\n",
       "  </thead>\n",
       "  <tbody>\n",
       "    <tr>\n",
       "      <th>3660</th>\n",
       "      <td>649</td>\n",
       "      <td>3587</td>\n",
       "      <td>0</td>\n",
       "      <td>6/6/2018</td>\n",
       "      <td>10</td>\n",
       "      <td>15</td>\n",
       "      <td>23</td>\n",
       "      <td>38</td>\n",
       "      <td>40</td>\n",
       "      <td>41</td>\n",
       "      <td>35</td>\n",
       "    </tr>\n",
       "    <tr>\n",
       "      <th>3661</th>\n",
       "      <td>649</td>\n",
       "      <td>3588</td>\n",
       "      <td>0</td>\n",
       "      <td>6/9/2018</td>\n",
       "      <td>19</td>\n",
       "      <td>25</td>\n",
       "      <td>31</td>\n",
       "      <td>36</td>\n",
       "      <td>46</td>\n",
       "      <td>47</td>\n",
       "      <td>26</td>\n",
       "    </tr>\n",
       "    <tr>\n",
       "      <th>3662</th>\n",
       "      <td>649</td>\n",
       "      <td>3589</td>\n",
       "      <td>0</td>\n",
       "      <td>6/13/2018</td>\n",
       "      <td>6</td>\n",
       "      <td>22</td>\n",
       "      <td>24</td>\n",
       "      <td>31</td>\n",
       "      <td>32</td>\n",
       "      <td>34</td>\n",
       "      <td>16</td>\n",
       "    </tr>\n",
       "    <tr>\n",
       "      <th>3663</th>\n",
       "      <td>649</td>\n",
       "      <td>3590</td>\n",
       "      <td>0</td>\n",
       "      <td>6/16/2018</td>\n",
       "      <td>2</td>\n",
       "      <td>15</td>\n",
       "      <td>21</td>\n",
       "      <td>31</td>\n",
       "      <td>38</td>\n",
       "      <td>49</td>\n",
       "      <td>8</td>\n",
       "    </tr>\n",
       "    <tr>\n",
       "      <th>3664</th>\n",
       "      <td>649</td>\n",
       "      <td>3591</td>\n",
       "      <td>0</td>\n",
       "      <td>6/20/2018</td>\n",
       "      <td>14</td>\n",
       "      <td>24</td>\n",
       "      <td>31</td>\n",
       "      <td>35</td>\n",
       "      <td>37</td>\n",
       "      <td>48</td>\n",
       "      <td>17</td>\n",
       "    </tr>\n",
       "  </tbody>\n",
       "</table>\n",
       "</div>"
      ],
      "text/plain": [
       "      PRODUCT  DRAW NUMBER  SEQUENCE NUMBER  DRAW DATE  NUMBER DRAWN 1  \\\n",
       "3660      649         3587                0   6/6/2018              10   \n",
       "3661      649         3588                0   6/9/2018              19   \n",
       "3662      649         3589                0  6/13/2018               6   \n",
       "3663      649         3590                0  6/16/2018               2   \n",
       "3664      649         3591                0  6/20/2018              14   \n",
       "\n",
       "      NUMBER DRAWN 2  NUMBER DRAWN 3  NUMBER DRAWN 4  NUMBER DRAWN 5  \\\n",
       "3660              15              23              38              40   \n",
       "3661              25              31              36              46   \n",
       "3662              22              24              31              32   \n",
       "3663              15              21              31              38   \n",
       "3664              24              31              35              37   \n",
       "\n",
       "      NUMBER DRAWN 6  BONUS NUMBER  \n",
       "3660              41            35  \n",
       "3661              47            26  \n",
       "3662              34            16  \n",
       "3663              49             8  \n",
       "3664              48            17  "
      ]
     },
     "execution_count": 74,
     "metadata": {},
     "output_type": "execute_result"
    }
   ],
   "source": [
    "lottery.tail()"
   ]
  },
  {
   "cell_type": "code",
   "execution_count": null,
   "metadata": {},
   "outputs": [],
   "source": [
    "event = {\"Tail\"}\n",
    "outcomes = {\"Tail\", \"Head\"}\n",
    "#set are unique and event and outcomes are always in set"
   ]
  },
  {
   "cell_type": "code",
   "execution_count": 76,
   "metadata": {},
   "outputs": [
    {
     "data": {
      "text/plain": [
       "{1, 2, 3}"
      ]
     },
     "execution_count": 76,
     "metadata": {},
     "output_type": "execute_result"
    }
   ],
   "source": [
    "{1,2,3,3,3,3}"
   ]
  },
  {
   "cell_type": "code",
   "execution_count": 77,
   "metadata": {},
   "outputs": [],
   "source": [
    "def wininng(series):\n",
    "    return set(series[4:10])"
   ]
  },
  {
   "cell_type": "code",
   "execution_count": 82,
   "metadata": {},
   "outputs": [
    {
     "data": {
      "text/plain": [
       "0        {3, 41, 11, 12, 43, 14}\n",
       "1        {33, 36, 37, 39, 8, 41}\n",
       "2         {1, 6, 39, 23, 24, 27}\n",
       "3         {3, 9, 10, 43, 13, 20}\n",
       "4        {34, 5, 14, 47, 21, 31}\n",
       "                  ...           \n",
       "3660    {38, 40, 41, 10, 15, 23}\n",
       "3661    {36, 46, 47, 19, 25, 31}\n",
       "3662     {32, 34, 6, 22, 24, 31}\n",
       "3663     {2, 38, 15, 49, 21, 31}\n",
       "3664    {35, 37, 14, 48, 24, 31}\n",
       "Length: 3665, dtype: object"
      ]
     },
     "execution_count": 82,
     "metadata": {},
     "output_type": "execute_result"
    }
   ],
   "source": [
    "s=lottery.apply(wininng, axis = 1)\n",
    "s"
   ]
  },
  {
   "cell_type": "code",
   "execution_count": 83,
   "metadata": {},
   "outputs": [
    {
     "ename": "SyntaxError",
     "evalue": "invalid syntax (<ipython-input-83-6b4e68f6cae1>, line 2)",
     "output_type": "error",
     "traceback": [
      "\u001b[1;36m  File \u001b[1;32m\"<ipython-input-83-6b4e68f6cae1>\"\u001b[1;36m, line \u001b[1;32m2\u001b[0m\n\u001b[1;33m    14\t24\t31\t35\t37\t48\u001b[0m\n\u001b[1;37m      \t^\u001b[0m\n\u001b[1;31mSyntaxError\u001b[0m\u001b[1;31m:\u001b[0m invalid syntax\n"
     ]
    }
   ],
   "source": [
    "#tally last index\n",
    "14\t24\t31\t35\t37\t48"
   ]
  },
  {
   "cell_type": "code",
   "execution_count": 84,
   "metadata": {},
   "outputs": [],
   "source": [
    "def check_hist(lst_6,series = s):\n",
    "    user_numbers = set(lst_6)\n",
    "    count = 0\n",
    "    for i in series:\n",
    "        if user_numbers == i:\n",
    "            count +=1\n",
    "    if count ==0:\n",
    "        return f\"\"\"These {lst_6} numbers have never won a big prize\"\"\"  \n",
    "    else:\n",
    "        return f\"\"\"This {lst_6} numbers have won {count} time(s).\n",
    "        This doesnt mean you won next time. your chance for wininng next time is 0.0000072%.\n",
    "        In other words, you have a 1 in chances to win 13,983,816.0\"\"\"\n",
    "        \n",
    "    "
   ]
  },
  {
   "cell_type": "code",
   "execution_count": 85,
   "metadata": {},
   "outputs": [
    {
     "data": {
      "text/plain": [
       "'These [2, 3, 4, 5, 7, 8] numbers have never won a big prize'"
      ]
     },
     "execution_count": 85,
     "metadata": {},
     "output_type": "execute_result"
    }
   ],
   "source": [
    "check_hist([2,3,4,5,7,8])"
   ]
  },
  {
   "cell_type": "code",
   "execution_count": 86,
   "metadata": {},
   "outputs": [
    {
     "data": {
      "text/plain": [
       "'These [1, 2, 3, 5, 6, 9] numbers have never won a big prize'"
      ]
     },
     "execution_count": 86,
     "metadata": {},
     "output_type": "execute_result"
    }
   ],
   "source": [
    "check_hist([1,2,3,5,6,9]) # {9,1,5,6,3,2}"
   ]
  },
  {
   "cell_type": "code",
   "execution_count": 87,
   "metadata": {
    "scrolled": true
   },
   "outputs": [
    {
     "data": {
      "text/plain": [
       "True"
      ]
     },
     "execution_count": 87,
     "metadata": {},
     "output_type": "execute_result"
    }
   ],
   "source": [
    "{1,2,3,5,6,9} =={9,1,5,6,3,2}"
   ]
  },
  {
   "cell_type": "code",
   "execution_count": 89,
   "metadata": {},
   "outputs": [
    {
     "data": {
      "text/plain": [
       "False"
      ]
     },
     "execution_count": 89,
     "metadata": {},
     "output_type": "execute_result"
    }
   ],
   "source": [
    "{1,2,3,5,6,9} =={9,1,5,6,3,28}"
   ]
  },
  {
   "cell_type": "code",
   "execution_count": 88,
   "metadata": {},
   "outputs": [
    {
     "name": "stdout",
     "output_type": "stream",
     "text": [
      "This [38, 40, 41, 10, 15, 23] numbers have won 1 time(s).\n",
      "        This doesnt mean you won next time. your chance for wininng next time is 0.0000072%.\n",
      "        In other words, you have a 1 in chances to win 13,983,816.0\n"
     ]
    }
   ],
   "source": [
    "print(check_hist([38, 40, 41, 10, 15, 23]))"
   ]
  },
  {
   "cell_type": "markdown",
   "metadata": {},
   "source": [
    "# when we buy more then 1 tickets"
   ]
  },
  {
   "cell_type": "code",
   "execution_count": 90,
   "metadata": {},
   "outputs": [],
   "source": [
    "def one_ticket(n_tickets):\n",
    "    num_succ = n_tickets\n",
    "    total_outcomes = comb(49,6)\n",
    "    prob = num_succ*100/total_outcomes\n",
    "    \n",
    "    if n_tickets ==1:\n",
    "        return f\"\"\"Your chance to win the big prize \n",
    "        with one ticket is {prob:.7f}%.\n",
    "        In other words, you have a 1 out of {total_outcomes:,} chances to win\"\"\"\n",
    "    \n",
    "    else:\n",
    "        com = total_outcomes/n_tickets\n",
    "        return f\"\"\"Your chance to win the big prize \n",
    "        with one ticket is {prob:.7f}%.\n",
    "        In other words, you have a 1 out of {com:,} chances to win\"\"\"\n",
    "        "
   ]
  },
  {
   "cell_type": "code",
   "execution_count": 94,
   "metadata": {},
   "outputs": [],
   "source": [
    "def one_ticket(n_tickets):\n",
    "    num_succ = n_tickets\n",
    "    total_outcomes = comb(49,6)\n",
    "    prob = num_succ*100/total_outcomes\n",
    "    \n",
    "    if n_tickets ==1:\n",
    "        print( f\"\"\"Your chance to win the big prize \n",
    "        with one ticket is {prob:.7f}%.\n",
    "        In other words, you have a 1 out of {total_outcomes:,} chances to win\"\"\") #none because function return non\n",
    "    \n",
    "    else:\n",
    "        com = total_outcomes/n_tickets\n",
    "        return f\"\"\"Your chance to win the big prize \n",
    "        with one ticket is {prob:.7f}%.\n",
    "        In other words, you have a 1 out of {com:,} chances to win\"\"\"\n",
    "        "
   ]
  },
  {
   "cell_type": "code",
   "execution_count": 95,
   "metadata": {},
   "outputs": [
    {
     "name": "stdout",
     "output_type": "stream",
     "text": [
      "Your chance to win the big prize \n",
      "        with one ticket is 0.0000072%.\n",
      "        In other words, you have a 1 out of 13,983,816.0 chances to win\n",
      "None\n",
      "---------------------------------------------------------------\n",
      "Your chance to win the big prize \n",
      "        with one ticket is 0.0007151%.\n",
      "        In other words, you have a 1 out of 139,838.16 chances to win\n",
      "---------------------------------------------------------------\n",
      "Your chance to win the big prize \n",
      "        with one ticket is 0.0018021%.\n",
      "        In other words, you have a 1 out of 55,491.333333333336 chances to win\n",
      "---------------------------------------------------------------\n",
      "Your chance to win the big prize \n",
      "        with one ticket is 100.0000000%.\n",
      "        In other words, you have a 1 out of 1.0 chances to win\n",
      "---------------------------------------------------------------\n"
     ]
    }
   ],
   "source": [
    "lst = [1,100,252,13983816]\n",
    "\n",
    "for i in lst:\n",
    "    print(one_ticket(i))\n",
    "    print(\"---------------------------------------------------------------\")\n",
    "    "
   ]
  },
  {
   "cell_type": "markdown",
   "metadata": {},
   "source": [
    "# now ck if we can some numbers out of 6 number"
   ]
  },
  {
   "cell_type": "code",
   "execution_count": 98,
   "metadata": {},
   "outputs": [
    {
     "data": {
      "text/plain": [
       "{2, 3, 4, 5, 6}"
      ]
     },
     "execution_count": 98,
     "metadata": {},
     "output_type": "execute_result"
    }
   ],
   "source": [
    "{1,2,3,4,5,6}\n",
    "\n",
    "{1,2,3,4,5} #{2,3,4,5,1}={1,2,3,4,5}   \n",
    "{1,2,3,4,6}\n",
    "{1,2,3,5,6}\n",
    "{1,2,4,5,6}\n",
    "{1,3,4,5,6}\n",
    "\n",
    "{2,3,4,5,6}  #after taht repitition start, order doesnot matter"
   ]
  },
  {
   "cell_type": "code",
   "execution_count": 99,
   "metadata": {},
   "outputs": [
    {
     "data": {
      "text/plain": [
       "6.0"
      ]
     },
     "execution_count": 99,
     "metadata": {},
     "output_type": "execute_result"
    }
   ],
   "source": [
    "comb(6,5)\n",
    "#mean 6 combination bany gy"
   ]
  },
  {
   "cell_type": "code",
   "execution_count": 100,
   "metadata": {},
   "outputs": [
    {
     "data": {
      "text/plain": [
       "True"
      ]
     },
     "execution_count": 100,
     "metadata": {},
     "output_type": "execute_result"
    }
   ],
   "source": [
    "{1,2,3,4,5} =={2,3,4,5,1}"
   ]
  },
  {
   "cell_type": "code",
   "execution_count": null,
   "metadata": {},
   "outputs": [],
   "source": [
    "{1,2,3,4,5,6}\n",
    "{1,2,3,4,5,7}\n",
    "{1,2,3,4,5,9}\n",
    ".\n",
    ".\n",
    ".\n",
    ".\n",
    "\n",
    ".\n",
    "\n",
    ".\n",
    "{1,2,3,4,5,49}"
   ]
  },
  {
   "cell_type": "code",
   "execution_count": 101,
   "metadata": {},
   "outputs": [
    {
     "data": {
      "text/plain": [
       "44.0"
      ]
     },
     "execution_count": 101,
     "metadata": {},
     "output_type": "execute_result"
    }
   ],
   "source": [
    "comb(49-5,6-5)"
   ]
  },
  {
   "cell_type": "code",
   "execution_count": 102,
   "metadata": {},
   "outputs": [
    {
     "data": {
      "text/plain": [
       "1.887896694292888e-05"
      ]
     },
     "execution_count": 102,
     "metadata": {},
     "output_type": "execute_result"
    }
   ],
   "source": [
    "succ_outcomes = 44*6\n",
    "total_outcomes = comb(49,6)\n",
    "pr = succ_outcomes/total_outcomes\n",
    "\n",
    "pr"
   ]
  },
  {
   "cell_type": "code",
   "execution_count": 103,
   "metadata": {},
   "outputs": [],
   "source": [
    "def win_less_6(winning_number):\n",
    "    n_com_tickets = comb(6,winning_number)\n",
    "    remainig_ticket = comb(49-winning_number,6-winning_number)\n",
    "    success = n_com_tickets*remainig_ticket\n",
    "    total_outcomes = comb(49,6)\n",
    "    prob = success /total_outcomes\n",
    "    \n",
    "    return f\"\"\"Your chance of having {winning_number} winning number\n",
    "        with this ticket is {prob:.7f}%.\n",
    "        In other words, you have a 1 out of {total_outcomes:,} chances to win\"\"\""
   ]
  },
  {
   "cell_type": "code",
   "execution_count": 104,
   "metadata": {},
   "outputs": [
    {
     "name": "stdout",
     "output_type": "stream",
     "text": [
      "Your chance of having 5 winning number\n",
      "        with this ticket is 0.0000189%.\n",
      "        In other words, you have a 1 out of 13,983,816.0 chances to win\n"
     ]
    }
   ],
   "source": [
    "print(win_less_6(5))"
   ]
  },
  {
   "cell_type": "code",
   "execution_count": 105,
   "metadata": {},
   "outputs": [
    {
     "name": "stdout",
     "output_type": "stream",
     "text": [
      "Your chance of having 2 winning number\n",
      "        with this ticket is 0.1913265%.\n",
      "        In other words, you have a 1 out of 13,983,816.0 chances to win\n",
      "----------------------------------------------------------------------\n",
      "Your chance of having 3 winning number\n",
      "        with this ticket is 0.0217108%.\n",
      "        In other words, you have a 1 out of 13,983,816.0 chances to win\n",
      "----------------------------------------------------------------------\n",
      "Your chance of having 4 winning number\n",
      "        with this ticket is 0.0010619%.\n",
      "        In other words, you have a 1 out of 13,983,816.0 chances to win\n",
      "----------------------------------------------------------------------\n",
      "Your chance of having 5 winning number\n",
      "        with this ticket is 0.0000189%.\n",
      "        In other words, you have a 1 out of 13,983,816.0 chances to win\n",
      "----------------------------------------------------------------------\n"
     ]
    }
   ],
   "source": [
    "lst = [2,3,4,5]\n",
    "\n",
    "for i in lst:\n",
    "    print(win_less_6(i))\n",
    "    print(\"----------------------------------------------------------------------\")"
   ]
  },
  {
   "cell_type": "code",
   "execution_count": 106,
   "metadata": {},
   "outputs": [
    {
     "data": {
      "text/plain": [
       "2222"
      ]
     },
     "execution_count": 106,
     "metadata": {},
     "output_type": "execute_result"
    }
   ],
   "source": [
    "1234\n",
    "\n",
    "2222"
   ]
  },
  {
   "cell_type": "code",
   "execution_count": 107,
   "metadata": {},
   "outputs": [
    {
     "data": {
      "text/plain": [
       "0.01"
      ]
     },
     "execution_count": 107,
     "metadata": {},
     "output_type": "execute_result"
    }
   ],
   "source": [
    "1*100/(10*10*10*10)"
   ]
  },
  {
   "cell_type": "code",
   "execution_count": 108,
   "metadata": {},
   "outputs": [
    {
     "data": {
      "text/plain": [
       "0.0001"
      ]
     },
     "execution_count": 108,
     "metadata": {},
     "output_type": "execute_result"
    }
   ],
   "source": [
    "12366\n",
    "\n",
    "1*100/(10)**6"
   ]
  },
  {
   "cell_type": "code",
   "execution_count": 109,
   "metadata": {},
   "outputs": [
    {
     "data": {
      "text/plain": [
       "11"
      ]
     },
     "execution_count": 109,
     "metadata": {},
     "output_type": "execute_result"
    }
   ],
   "source": [
    "17-6"
   ]
  },
  {
   "cell_type": "code",
   "execution_count": 110,
   "metadata": {},
   "outputs": [
    {
     "data": {
      "text/plain": [
       "4321"
      ]
     },
     "execution_count": 110,
     "metadata": {},
     "output_type": "execute_result"
    }
   ],
   "source": [
    "1234\n",
    "4321"
   ]
  },
  {
   "cell_type": "code",
   "execution_count": 111,
   "metadata": {},
   "outputs": [
    {
     "data": {
      "text/plain": [
       "8910720.0"
      ]
     },
     "execution_count": 111,
     "metadata": {},
     "output_type": "execute_result"
    }
   ],
   "source": [
    "permutaion(17,6)"
   ]
  },
  {
   "cell_type": "code",
   "execution_count": 112,
   "metadata": {},
   "outputs": [
    {
     "data": {
      "text/plain": [
       "612345"
      ]
     },
     "execution_count": 112,
     "metadata": {},
     "output_type": "execute_result"
    }
   ],
   "source": [
    "123456\n",
    "612345\n"
   ]
  },
  {
   "cell_type": "code",
   "execution_count": 113,
   "metadata": {},
   "outputs": [
    {
     "data": {
      "text/plain": [
       "2203961430.0"
      ]
     },
     "execution_count": 113,
     "metadata": {},
     "output_type": "execute_result"
    }
   ],
   "source": [
    "# 34 A/B Test  18\n",
    "\n",
    "\n",
    "comb(34,18)"
   ]
  },
  {
   "cell_type": "code",
   "execution_count": 114,
   "metadata": {},
   "outputs": [
    {
     "data": {
      "text/plain": [
       "4.537284484148164e-10"
      ]
     },
     "execution_count": 114,
     "metadata": {},
     "output_type": "execute_result"
    }
   ],
   "source": [
    "# y\n",
    "\n",
    "1/2203961430.0"
   ]
  },
  {
   "cell_type": "code",
   "execution_count": 115,
   "metadata": {},
   "outputs": [
    {
     "data": {
      "text/plain": [
       "103163592470400.0"
      ]
     },
     "execution_count": 115,
     "metadata": {},
     "output_type": "execute_result"
    }
   ],
   "source": [
    "# 8 60\n",
    "\n",
    "permutaion(60,8)"
   ]
  },
  {
   "cell_type": "code",
   "execution_count": null,
   "metadata": {},
   "outputs": [],
   "source": []
  }
 ],
 "metadata": {
  "kernelspec": {
   "display_name": "Python 3",
   "language": "python",
   "name": "python3"
  },
  "language_info": {
   "codemirror_mode": {
    "name": "ipython",
    "version": 3
   },
   "file_extension": ".py",
   "mimetype": "text/x-python",
   "name": "python",
   "nbconvert_exporter": "python",
   "pygments_lexer": "ipython3",
   "version": "3.8.5"
  }
 },
 "nbformat": 4,
 "nbformat_minor": 4
}
