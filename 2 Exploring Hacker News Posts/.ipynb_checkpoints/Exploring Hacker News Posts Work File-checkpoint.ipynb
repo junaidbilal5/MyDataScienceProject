{
 "cells": [
  {
   "cell_type": "markdown",
   "metadata": {},
   "source": [
    "# Exploring Hacker News Posts\n",
    "\n",
    "In this project, we'll work with a data set of submissions to popular technology site [Hacker News](https://news.ycombinator.com/). Hacker News is a site where user-submitted stories (known as `\"posts\"`) are voted and commented upon.\n",
    "\n",
    "We're specifically interested in posts whose titles begin with either **Ask HN** or **Show HN**. Users submit `Ask HN` posts to ask the Hacker News community a specific question\n",
    "\n",
    "Likewise, users submit `Show HN` posts to show the Hacker News community a project, product, or just generally something interesting.\n",
    "\n",
    "We'll compare these two types of posts (i.e Ask HN posts and Show HN Posts) to determine the following:\n",
    "\n",
    "1. which post is most popular?\n",
    "\n",
    "2. Do `Ask HN` or `Show HN` receive more comments on average? means on which we received more responase\n",
    "\n",
    "3. Do posts created at a certain time receive more comments on average? means any specific time to post a news to get more comments"
   ]
  },
  {
   "cell_type": "markdown",
   "metadata": {},
   "source": [
    "[modin](https://modin.readthedocs.io/en/latest/) modin is fast laibary and 73% function same as in pandas"
   ]
  },
  {
   "cell_type": "code",
   "execution_count": null,
   "metadata": {
    "scrolled": true
   },
   "outputs": [
    {
     "name": "stdout",
     "output_type": "stream",
     "text": [
      "Requirement already satisfied: modin[ray] in c:\\users\\junaid.8646059\\anaconda3\\lib\\site-packages (0.8.3)\n",
      "Requirement already satisfied: packaging in c:\\users\\junaid.8646059\\anaconda3\\lib\\site-packages (from modin[ray]) (20.4)\n",
      "Requirement already satisfied: pandas==1.1.5 in c:\\users\\junaid.8646059\\anaconda3\\lib\\site-packages (from modin[ray]) (1.1.5)\n",
      "Requirement already satisfied: pyarrow==1.0; extra == \"ray\" in c:\\users\\junaid.8646059\\anaconda3\\lib\\site-packages (from modin[ray]) (1.0.0)\n",
      "Requirement already satisfied: ray>=1.0.0; extra == \"ray\" in c:\\users\\junaid.8646059\\anaconda3\\lib\\site-packages (from modin[ray]) (1.1.0)\n",
      "Requirement already satisfied: pyparsing>=2.0.2 in c:\\users\\junaid.8646059\\anaconda3\\lib\\site-packages (from packaging->modin[ray]) (2.4.7)\n",
      "Requirement already satisfied: six in c:\\users\\junaid.8646059\\anaconda3\\lib\\site-packages (from packaging->modin[ray]) (1.15.0)\n",
      "Requirement already satisfied: pytz>=2017.2 in c:\\users\\junaid.8646059\\anaconda3\\lib\\site-packages (from pandas==1.1.5->modin[ray]) (2020.1)\n",
      "Requirement already satisfied: python-dateutil>=2.7.3 in c:\\users\\junaid.8646059\\anaconda3\\lib\\site-packages (from pandas==1.1.5->modin[ray]) (2.8.1)\n",
      "Requirement already satisfied: numpy>=1.15.4 in c:\\users\\junaid.8646059\\anaconda3\\lib\\site-packages (from pandas==1.1.5->modin[ray]) (1.19.2)\n",
      "Requirement already satisfied: opencensus in c:\\users\\junaid.8646059\\anaconda3\\lib\\site-packages (from ray>=1.0.0; extra == \"ray\"->modin[ray]) (0.7.12)\n",
      "Requirement already satisfied: colorful in c:\\users\\junaid.8646059\\anaconda3\\lib\\site-packages (from ray>=1.0.0; extra == \"ray\"->modin[ray]) (0.5.4)\n",
      "Requirement already satisfied: aiohttp-cors in c:\\users\\junaid.8646059\\anaconda3\\lib\\site-packages (from ray>=1.0.0; extra == \"ray\"->modin[ray]) (0.7.0)\n",
      "Requirement already satisfied: click>=7.0 in c:\\users\\junaid.8646059\\anaconda3\\lib\\site-packages (from ray>=1.0.0; extra == \"ray\"->modin[ray]) (7.1.2)\n",
      "Requirement already satisfied: gpustat in c:\\users\\junaid.8646059\\anaconda3\\lib\\site-packages (from ray>=1.0.0; extra == \"ray\"->modin[ray]) (0.6.0)\n",
      "Requirement already satisfied: aioredis in c:\\users\\junaid.8646059\\anaconda3\\lib\\site-packages (from ray>=1.0.0; extra == \"ray\"->modin[ray]) (1.3.1)\n",
      "Requirement already satisfied: prometheus-client>=0.7.1 in c:\\users\\junaid.8646059\\anaconda3\\lib\\site-packages (from ray>=1.0.0; extra == \"ray\"->modin[ray]) (0.8.0)\n",
      "Requirement already satisfied: requests in c:\\users\\junaid.8646059\\anaconda3\\lib\\site-packages (from ray>=1.0.0; extra == \"ray\"->modin[ray]) (2.24.0)\n",
      "Requirement already satisfied: colorama in c:\\users\\junaid.8646059\\anaconda3\\lib\\site-packages (from ray>=1.0.0; extra == \"ray\"->modin[ray]) (0.4.4)\n",
      "Requirement already satisfied: jsonschema in c:\\users\\junaid.8646059\\anaconda3\\lib\\site-packages (from ray>=1.0.0; extra == \"ray\"->modin[ray]) (3.2.0)\n",
      "Requirement already satisfied: pyyaml in c:\\users\\junaid.8646059\\anaconda3\\lib\\site-packages (from ray>=1.0.0; extra == \"ray\"->modin[ray]) (5.3.1)\n",
      "Requirement already satisfied: redis>=3.5.0 in c:\\users\\junaid.8646059\\anaconda3\\lib\\site-packages (from ray>=1.0.0; extra == \"ray\"->modin[ray]) (3.5.3)\n",
      "Requirement already satisfied: filelock in c:\\users\\junaid.8646059\\anaconda3\\lib\\site-packages (from ray>=1.0.0; extra == \"ray\"->modin[ray]) (3.0.12)\n",
      "Requirement already satisfied: grpcio>=1.28.1 in c:\\users\\junaid.8646059\\anaconda3\\lib\\site-packages (from ray>=1.0.0; extra == \"ray\"->modin[ray]) (1.32.0)\n",
      "Requirement already satisfied: aiohttp in c:\\users\\junaid.8646059\\anaconda3\\lib\\site-packages (from ray>=1.0.0; extra == \"ray\"->modin[ray]) (3.7.3)\n",
      "Requirement already satisfied: protobuf>=3.8.0 in c:\\users\\junaid.8646059\\anaconda3\\lib\\site-packages (from ray>=1.0.0; extra == \"ray\"->modin[ray]) (3.14.0)\n",
      "Requirement already satisfied: py-spy>=0.2.0 in c:\\users\\junaid.8646059\\anaconda3\\lib\\site-packages (from ray>=1.0.0; extra == \"ray\"->modin[ray]) (0.3.4)\n",
      "Requirement already satisfied: msgpack<2.0.0,>=1.0.0 in c:\\users\\junaid.8646059\\anaconda3\\lib\\site-packages (from ray>=1.0.0; extra == \"ray\"->modin[ray]) (1.0.0)\n",
      "Requirement already satisfied: opencensus-context==0.1.2 in c:\\users\\junaid.8646059\\anaconda3\\lib\\site-packages (from opencensus->ray>=1.0.0; extra == \"ray\"->modin[ray]) (0.1.2)\n",
      "Requirement already satisfied: google-api-core<2.0.0,>=1.0.0 in c:\\users\\junaid.8646059\\anaconda3\\lib\\site-packages (from opencensus->ray>=1.0.0; extra == \"ray\"->modin[ray]) (1.25.0)\n",
      "Requirement already satisfied: nvidia-ml-py3>=7.352.0 in c:\\users\\junaid.8646059\\anaconda3\\lib\\site-packages (from gpustat->ray>=1.0.0; extra == \"ray\"->modin[ray]) (7.352.0)\n",
      "Requirement already satisfied: blessings>=1.6 in c:\\users\\junaid.8646059\\anaconda3\\lib\\site-packages (from gpustat->ray>=1.0.0; extra == \"ray\"->modin[ray]) (1.7)\n",
      "Requirement already satisfied: psutil in c:\\users\\junaid.8646059\\anaconda3\\lib\\site-packages (from gpustat->ray>=1.0.0; extra == \"ray\"->modin[ray]) (5.7.2)\n",
      "Requirement already satisfied: hiredis in c:\\users\\junaid.8646059\\anaconda3\\lib\\site-packages (from aioredis->ray>=1.0.0; extra == \"ray\"->modin[ray]) (1.1.0)\n",
      "Requirement already satisfied: async-timeout in c:\\users\\junaid.8646059\\anaconda3\\lib\\site-packages (from aioredis->ray>=1.0.0; extra == \"ray\"->modin[ray]) (3.0.1)\n",
      "Requirement already satisfied: chardet<4,>=3.0.2 in c:\\users\\junaid.8646059\\anaconda3\\lib\\site-packages (from requests->ray>=1.0.0; extra == \"ray\"->modin[ray]) (3.0.4)\n",
      "Requirement already satisfied: certifi>=2017.4.17 in c:\\users\\junaid.8646059\\anaconda3\\lib\\site-packages (from requests->ray>=1.0.0; extra == \"ray\"->modin[ray]) (2020.6.20)\n",
      "Requirement already satisfied: urllib3!=1.25.0,!=1.25.1,<1.26,>=1.21.1 in c:\\users\\junaid.8646059\\anaconda3\\lib\\site-packages (from requests->ray>=1.0.0; extra == \"ray\"->modin[ray]) (1.25.11)\n",
      "Requirement already satisfied: idna<3,>=2.5 in c:\\users\\junaid.8646059\\anaconda3\\lib\\site-packages (from requests->ray>=1.0.0; extra == \"ray\"->modin[ray]) (2.10)\n",
      "Requirement already satisfied: pyrsistent>=0.14.0 in c:\\users\\junaid.8646059\\anaconda3\\lib\\site-packages (from jsonschema->ray>=1.0.0; extra == \"ray\"->modin[ray]) (0.17.3)\n",
      "Requirement already satisfied: setuptools in c:\\users\\junaid.8646059\\anaconda3\\lib\\site-packages (from jsonschema->ray>=1.0.0; extra == \"ray\"->modin[ray]) (50.3.1.post20201107)\n",
      "Requirement already satisfied: attrs>=17.4.0 in c:\\users\\junaid.8646059\\anaconda3\\lib\\site-packages (from jsonschema->ray>=1.0.0; extra == \"ray\"->modin[ray]) (20.3.0)\n",
      "Requirement already satisfied: yarl<2.0,>=1.0 in c:\\users\\junaid.8646059\\anaconda3\\lib\\site-packages (from aiohttp->ray>=1.0.0; extra == \"ray\"->modin[ray]) (1.6.3)\n",
      "Requirement already satisfied: typing-extensions>=3.6.5 in c:\\users\\junaid.8646059\\anaconda3\\lib\\site-packages (from aiohttp->ray>=1.0.0; extra == \"ray\"->modin[ray]) (3.7.4.3)\n",
      "Requirement already satisfied: multidict<7.0,>=4.5 in c:\\users\\junaid.8646059\\anaconda3\\lib\\site-packages (from aiohttp->ray>=1.0.0; extra == \"ray\"->modin[ray]) (5.1.0)\n",
      "Requirement already satisfied: google-auth<2.0dev,>=1.21.1 in c:\\users\\junaid.8646059\\anaconda3\\lib\\site-packages (from google-api-core<2.0.0,>=1.0.0->opencensus->ray>=1.0.0; extra == \"ray\"->modin[ray]) (1.24.0)\n",
      "Requirement already satisfied: googleapis-common-protos<2.0dev,>=1.6.0 in c:\\users\\junaid.8646059\\anaconda3\\lib\\site-packages (from google-api-core<2.0.0,>=1.0.0->opencensus->ray>=1.0.0; extra == \"ray\"->modin[ray]) (1.52.0)\n",
      "Requirement already satisfied: pyasn1-modules>=0.2.1 in c:\\users\\junaid.8646059\\anaconda3\\lib\\site-packages (from google-auth<2.0dev,>=1.21.1->google-api-core<2.0.0,>=1.0.0->opencensus->ray>=1.0.0; extra == \"ray\"->modin[ray]) (0.2.8)\n",
      "Requirement already satisfied: rsa<5,>=3.1.4; python_version >= \"3.6\" in c:\\users\\junaid.8646059\\anaconda3\\lib\\site-packages (from google-auth<2.0dev,>=1.21.1->google-api-core<2.0.0,>=1.0.0->opencensus->ray>=1.0.0; extra == \"ray\"->modin[ray]) (4.7)\n",
      "Requirement already satisfied: cachetools<5.0,>=2.0.0 in c:\\users\\junaid.8646059\\anaconda3\\lib\\site-packages (from google-auth<2.0dev,>=1.21.1->google-api-core<2.0.0,>=1.0.0->opencensus->ray>=1.0.0; extra == \"ray\"->modin[ray]) (4.2.0)\n",
      "Requirement already satisfied: pyasn1<0.5.0,>=0.4.6 in c:\\users\\junaid.8646059\\anaconda3\\lib\\site-packages (from pyasn1-modules>=0.2.1->google-auth<2.0dev,>=1.21.1->google-api-core<2.0.0,>=1.0.0->opencensus->ray>=1.0.0; extra == \"ray\"->modin[ray]) (0.4.8)\n"
     ]
    }
   ],
   "source": [
    "!pip install modin[ray]\n",
    "import numpy as np\n",
    "import time\n",
    "import modin.pandas as pd\n",
    "import matplotlib.pyplot as plt\n",
    "%%time\n",
    "news=pd.read_csv(\"news_posts.csv\")\n",
    "news.head()"
   ]
  },
  {
   "cell_type": "code",
   "execution_count": null,
   "metadata": {},
   "outputs": [],
   "source": [
    "import pandas as pd\n",
    "import numpy as np\n",
    "import matplotlib.pyplot as plt"
   ]
  },
  {
   "cell_type": "code",
   "execution_count": null,
   "metadata": {
    "scrolled": true
   },
   "outputs": [],
   "source": [
    "%%time\n",
    "news=pd.read_csv(\"news_posts.csv\")\n",
    "news.head()"
   ]
  },
  {
   "cell_type": "code",
   "execution_count": null,
   "metadata": {},
   "outputs": [],
   "source": [
    "news.count()"
   ]
  },
  {
   "cell_type": "code",
   "execution_count": null,
   "metadata": {},
   "outputs": [],
   "source": [
    "news.columns"
   ]
  },
  {
   "cell_type": "code",
   "execution_count": null,
   "metadata": {},
   "outputs": [],
   "source": [
    "news.info()"
   ]
  },
  {
   "cell_type": "code",
   "execution_count": null,
   "metadata": {},
   "outputs": [],
   "source": [
    "news.describe()"
   ]
  },
  {
   "cell_type": "code",
   "execution_count": null,
   "metadata": {},
   "outputs": [],
   "source": [
    "news.index"
   ]
  },
  {
   "cell_type": "code",
   "execution_count": null,
   "metadata": {},
   "outputs": [],
   "source": [
    "news.shape"
   ]
  },
  {
   "cell_type": "markdown",
   "metadata": {},
   "source": [
    "**we  need to coonvert date time into date time formate for comparision**"
   ]
  },
  {
   "cell_type": "markdown",
   "metadata": {},
   "source": [
    "# at the time of reading file we can convert date time\n",
    "method 1"
   ]
  },
  {
   "cell_type": "code",
   "execution_count": null,
   "metadata": {},
   "outputs": [],
   "source": [
    "news=pd.read_csv(\"news_posts.csv\",parse_dates=[\"created_at\"])\n",
    "news.head()"
   ]
  },
  {
   "cell_type": "code",
   "execution_count": null,
   "metadata": {},
   "outputs": [],
   "source": [
    "news.info()"
   ]
  },
  {
   "cell_type": "markdown",
   "metadata": {},
   "source": [
    "# at the alter stage we can convert date time\n",
    "method 2"
   ]
  },
  {
   "cell_type": "code",
   "execution_count": null,
   "metadata": {},
   "outputs": [],
   "source": [
    "news=pd.read_csv(\"news_posts.csv\")\n",
    "news[\"created_at\"]=pd.to_datetime(news[\"created_at\"])\n",
    "news.head()"
   ]
  },
  {
   "cell_type": "code",
   "execution_count": null,
   "metadata": {},
   "outputs": [],
   "source": [
    "news.info()"
   ]
  },
  {
   "cell_type": "code",
   "execution_count": null,
   "metadata": {},
   "outputs": [],
   "source": [
    "news=news[['created_at','id', 'title', 'url', 'num_points', 'num_comments', 'author']]\n",
    "news\n",
    "#column interchange , bring date in first colums"
   ]
  },
  {
   "cell_type": "markdown",
   "metadata": {},
   "source": [
    "**we need to make 2 or 3 data frame of askHN and showHN and others news to find which post is most popular**\n",
    "\n",
    "* askhn and showhn comes first in title colum\n",
    "* but we need to find hn in lower or upper case"
   ]
  },
  {
   "cell_type": "code",
   "execution_count": null,
   "metadata": {},
   "outputs": [],
   "source": [
    "news[\"title\"].head(15)\n",
    "#Ask HN , Show HN"
   ]
  },
  {
   "cell_type": "code",
   "execution_count": null,
   "metadata": {},
   "outputs": [],
   "source": [
    "ask_bool=news[\"title\"].str.lower().str.startswith(\"ask hn\")\n",
    "show_bool=news[\"title\"].str.lower().str.startswith(\"show hn\")\n",
    "#where find it show true, boolen index"
   ]
  },
  {
   "cell_type": "code",
   "execution_count": null,
   "metadata": {},
   "outputs": [],
   "source": [
    "ask_bool.head()"
   ]
  },
  {
   "cell_type": "code",
   "execution_count": null,
   "metadata": {},
   "outputs": [],
   "source": [
    "show_bool.head()"
   ]
  },
  {
   "cell_type": "code",
   "execution_count": null,
   "metadata": {},
   "outputs": [],
   "source": [
    "ask_post=news[ask_bool]\n",
    "show_post=news[show_bool]"
   ]
  },
  {
   "cell_type": "code",
   "execution_count": null,
   "metadata": {},
   "outputs": [],
   "source": [
    "ask_post.head()"
   ]
  },
  {
   "cell_type": "code",
   "execution_count": null,
   "metadata": {},
   "outputs": [],
   "source": [
    "show_post.head()"
   ]
  },
  {
   "cell_type": "code",
   "execution_count": null,
   "metadata": {},
   "outputs": [],
   "source": [
    "other_news=news[~(ask_bool | show_bool)]\n",
    "other_news.head()\n",
    "#dalda use for not operator in pandas but in python we use just \"not\" "
   ]
  },
  {
   "cell_type": "markdown",
   "metadata": {},
   "source": [
    "# find most comments in ask hn post and show hn post"
   ]
  },
  {
   "cell_type": "code",
   "execution_count": null,
   "metadata": {},
   "outputs": [],
   "source": [
    "ask_post[\"num_comments\"]"
   ]
  },
  {
   "cell_type": "code",
   "execution_count": null,
   "metadata": {},
   "outputs": [],
   "source": [
    "show_post[\"num_comments\"]"
   ]
  },
  {
   "cell_type": "code",
   "execution_count": null,
   "metadata": {},
   "outputs": [],
   "source": [
    "ask_post_com=ask_post[\"num_comments\"].mean()\n",
    "show_post_com=show_post[\"num_comments\"].mean()"
   ]
  },
  {
   "cell_type": "code",
   "execution_count": null,
   "metadata": {},
   "outputs": [],
   "source": [
    "print(f\"ASK:{ask_post_com} , SHOW:{show_post_com}\")\n",
    "#on average askhn get most comments, means if we want to get most comment on post then we should need to place askHn in the start\n"
   ]
  },
  {
   "cell_type": "markdown",
   "metadata": {},
   "source": [
    "# making a series to show the data "
   ]
  },
  {
   "cell_type": "code",
   "execution_count": null,
   "metadata": {},
   "outputs": [],
   "source": [
    "avg_comment=pd.Series({\"ASK\":ask_post_com, \"SHOW\":show_post_com})\n",
    "avg_comment"
   ]
  },
  {
   "cell_type": "markdown",
   "metadata": {},
   "source": [
    "* we can make bar chart or pie chat\n",
    "* bar chart comes into picture where we have catagory with absoult values\n",
    "* pie chart comes into picture where we have % or proportion in data"
   ]
  },
  {
   "cell_type": "code",
   "execution_count": null,
   "metadata": {},
   "outputs": [],
   "source": [
    "avg_comment.plot.bar()\n",
    "plt.show()"
   ]
  },
  {
   "cell_type": "code",
   "execution_count": null,
   "metadata": {
    "scrolled": true
   },
   "outputs": [],
   "source": [
    "avg_comment.plot.barh(title=\"AVERAGE COMMENTS\")\n",
    "plt.show()"
   ]
  },
  {
   "cell_type": "code",
   "execution_count": null,
   "metadata": {},
   "outputs": [],
   "source": [
    "ask_post=ask_post.copy()\n",
    "show_post=show_post.copy()\n",
    "#make a copy of dataframe"
   ]
  },
  {
   "cell_type": "markdown",
   "metadata": {},
   "source": [
    "# now we check in which hour we get more comment"
   ]
  },
  {
   "cell_type": "code",
   "execution_count": null,
   "metadata": {},
   "outputs": [],
   "source": [
    "ask_post.head()"
   ]
  },
  {
   "cell_type": "code",
   "execution_count": null,
   "metadata": {},
   "outputs": [],
   "source": [
    "ask_post[\"created_at\"].dt.hour"
   ]
  },
  {
   "cell_type": "code",
   "execution_count": null,
   "metadata": {},
   "outputs": [],
   "source": [
    "ask_post[\"hours\"]=ask_post[\"created_at\"].dt.hour\n",
    "ask_post.head()"
   ]
  },
  {
   "cell_type": "code",
   "execution_count": null,
   "metadata": {},
   "outputs": [],
   "source": [
    "ask_post.groupby(\"hours\")[\"num_comments\"].mean().sort_values(ascending=False)\n",
    "#3pm USA time is best time, with askhn post"
   ]
  },
  {
   "cell_type": "code",
   "execution_count": null,
   "metadata": {},
   "outputs": [],
   "source": [
    "show_post.head()"
   ]
  },
  {
   "cell_type": "code",
   "execution_count": null,
   "metadata": {},
   "outputs": [],
   "source": [
    "show_post[\"created_at\"].dt.hour"
   ]
  },
  {
   "cell_type": "code",
   "execution_count": null,
   "metadata": {},
   "outputs": [],
   "source": [
    "show_post[\"hour\"]=show_post[\"created_at\"].dt.hour\n",
    "show_post.head()"
   ]
  },
  {
   "cell_type": "code",
   "execution_count": null,
   "metadata": {
    "scrolled": true
   },
   "outputs": [],
   "source": [
    "show_post.groupby(\"hour\")[\"num_comments\"].mean().sort_values(ascending=False)"
   ]
  },
  {
   "cell_type": "code",
   "execution_count": null,
   "metadata": {},
   "outputs": [],
   "source": [
    "df=pd.DataFrame({'ask':ask_post.groupby(\"hours\")[\"num_comments\"].mean(),\"show\":show_post.groupby(\"hour\")[\"num_comments\"].mean()})\n",
    "df.sort_values([\"ask\"],inplace=True)\n",
    "df"
   ]
  },
  {
   "cell_type": "code",
   "execution_count": null,
   "metadata": {},
   "outputs": [],
   "source": [
    "df.plot.barh()\n",
    "plt.show()"
   ]
  },
  {
   "cell_type": "code",
   "execution_count": null,
   "metadata": {},
   "outputs": [],
   "source": [
    "print({\"Ask\":ask_post.shape,\"Show\":show_post.shape})"
   ]
  },
  {
   "cell_type": "markdown",
   "metadata": {},
   "source": [
    "# generate file"
   ]
  },
  {
   "cell_type": "code",
   "execution_count": null,
   "metadata": {},
   "outputs": [],
   "source": [
    "ask_post.to_csv(\"Askhn.csv\",index=False) \n",
    "#if iindex true then it will generate by-default 1,2,3,4 ---- and if false then it will generate that is column"
   ]
  },
  {
   "cell_type": "markdown",
   "metadata": {},
   "source": [
    "# making data frame"
   ]
  },
  {
   "cell_type": "code",
   "execution_count": null,
   "metadata": {},
   "outputs": [],
   "source": [
    "h_com=ask_post.groupby([\"hours\"])[\"num_comments\"].mean().sort_values(ascending=False)\n",
    "h_com"
   ]
  },
  {
   "cell_type": "code",
   "execution_count": null,
   "metadata": {},
   "outputs": [],
   "source": [
    "h_com_df=pd.DataFrame(h_com)\n",
    "h_com_df"
   ]
  },
  {
   "cell_type": "code",
   "execution_count": null,
   "metadata": {},
   "outputs": [],
   "source": [
    "h_com_df.index.name=None\n"
   ]
  },
  {
   "cell_type": "code",
   "execution_count": null,
   "metadata": {},
   "outputs": [],
   "source": [
    "h_com_df"
   ]
  },
  {
   "cell_type": "markdown",
   "metadata": {},
   "source": [
    "# print top five hours"
   ]
  },
  {
   "cell_type": "code",
   "execution_count": null,
   "metadata": {
    "scrolled": false
   },
   "outputs": [],
   "source": [
    "for index,value in h_com_df.head().iterrows():\n",
    "    print(index)"
   ]
  },
  {
   "cell_type": "code",
   "execution_count": null,
   "metadata": {
    "scrolled": true
   },
   "outputs": [],
   "source": [
    "for index,value in h_com_df.head().iterrows():\n",
    "    print(value)"
   ]
  },
  {
   "cell_type": "code",
   "execution_count": null,
   "metadata": {},
   "outputs": [],
   "source": [
    "for index,value in h_com_df.head().iterrows():\n",
    "    print(index,value)"
   ]
  },
  {
   "cell_type": "code",
   "execution_count": null,
   "metadata": {
    "scrolled": true
   },
   "outputs": [],
   "source": [
    "for index,value in h_com_df.head().iterrows():\n",
    "    print(index,value.values)"
   ]
  },
  {
   "cell_type": "code",
   "execution_count": null,
   "metadata": {},
   "outputs": [],
   "source": [
    "for index,value in h_com_df.head().iterrows():\n",
    "    print(index,value.values[0])"
   ]
  },
  {
   "cell_type": "code",
   "execution_count": null,
   "metadata": {},
   "outputs": [],
   "source": [
    "for index,value in h_com_df.head().iterrows():\n",
    "    hours=index\n",
    "    comment=value.values[0]\n",
    "    print(f\"There are {comment:.2f} comment at {hours}\")"
   ]
  },
  {
   "cell_type": "code",
   "execution_count": null,
   "metadata": {},
   "outputs": [],
   "source": [
    "number=12783333338\n",
    "f\"My is {number:,}\""
   ]
  },
  {
   "cell_type": "code",
   "execution_count": null,
   "metadata": {},
   "outputs": [],
   "source": [
    "number=12783333338.9209\n",
    "f\"My is {number:,.2f}\""
   ]
  },
  {
   "cell_type": "code",
   "execution_count": null,
   "metadata": {},
   "outputs": [],
   "source": [
    "import pandas as pd \n",
    "\n",
    "# Creating a data frame \n",
    "df = pd.DataFrame([['Animal', 'Baby', 'Cat', 'Dog', 'Elephant', 'Frog', 'Gragor']]) \n",
    "\n",
    "# Itering over the data frame rows \n",
    "# using df.iterrows() \n",
    "itr = next(df.iterrows())[1]\n",
    "itr \n"
   ]
  },
  {
   "cell_type": "code",
   "execution_count": null,
   "metadata": {},
   "outputs": [],
   "source": []
  },
  {
   "cell_type": "code",
   "execution_count": null,
   "metadata": {},
   "outputs": [],
   "source": []
  }
 ],
 "metadata": {
  "kernelspec": {
   "display_name": "Python 3",
   "language": "python",
   "name": "python3"
  },
  "language_info": {
   "codemirror_mode": {
    "name": "ipython",
    "version": 3
   },
   "file_extension": ".py",
   "mimetype": "text/x-python",
   "name": "python",
   "nbconvert_exporter": "python",
   "pygments_lexer": "ipython3",
   "version": "3.8.5"
  }
 },
 "nbformat": 4,
 "nbformat_minor": 4
}
